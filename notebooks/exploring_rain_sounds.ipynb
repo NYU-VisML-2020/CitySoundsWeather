{
 "cells": [
  {
   "cell_type": "code",
   "execution_count": null,
   "metadata": {},
   "outputs": [],
   "source": [
    "import base64\n",
    "import h5py\n",
    "import IPython.display as ipd\n",
    "import os\n",
    "import pandas as pd\n",
    "import sys\n",
    "\n",
    "from datetime import datetime\n",
    "\n",
    "sys.path.append('/'.join(os.getcwd().split('/')[:-1]) + '/private')\n",
    "from decrypt import readEncryptedTarAudioFile"
   ]
  },
  {
   "cell_type": "code",
   "execution_count": null,
   "metadata": {},
   "outputs": [],
   "source": [
    "%matplotlib inline"
   ]
  },
  {
   "cell_type": "code",
   "execution_count": null,
   "metadata": {},
   "outputs": [],
   "source": [
    "def convert_to_epoch(stamp):\n",
    "    return (stamp - pd.Timestamp('1970-01-01')) // pd.Timedelta('1s')\n",
    "\n",
    "class Searcher:\n",
    "    def __init__(self, node):\n",
    "        self.node = node\n",
    "        \n",
    "        index_path = f'../sonyc/indices/2017/{node}_recording_index.h5'\n",
    "        self.information = h5py.File(index_path, 'r')['recording_index']\n",
    "        self.timestamps = pd.DataFrame(self.information['timestamp'], columns=['epoch'])\n",
    "        \n",
    "    def return_interval(self, start, stop=None):\n",
    "        if stop is None:\n",
    "            stop = start + pd.Timedelta(minutes=60)\n",
    "            \n",
    "        lower_bound = convert_to_epoch(start) <= self.timestamps['epoch']\n",
    "        upper_bound = self.timestamps['epoch'] <= convert_to_epoch(stop)\n",
    "        \n",
    "        interval = self.timestamps[lower_bound & upper_bound].reset_index()\n",
    "        interval['utc'] = pd.to_datetime(\n",
    "            interval['epoch'], \n",
    "            unit='s', \n",
    "            utc=True, \n",
    "            infer_datetime_format=True\n",
    "        )\n",
    "        \n",
    "        return interval\n",
    "    \n",
    "    def get_audio(self, index):\n",
    "        information = self.information[index]\n",
    "        audio_path = '../sonyc/' + information[1].decode('utf-8')\n",
    "        return base64.decodebytes(readEncryptedTarAudioFile(audio_path, information[2]))"
   ]
  },
  {
   "cell_type": "markdown",
   "metadata": {},
   "source": [
    "### Example usage"
   ]
  },
  {
   "cell_type": "code",
   "execution_count": null,
   "metadata": {},
   "outputs": [],
   "source": [
    "# Node chosen due to proximity to Washington Square Park (next to philosophy department) and has 2017 data.\n",
    "searcher = Searcher('sonycnode-b827eb2a1bce.sonyc')"
   ]
  },
  {
   "cell_type": "code",
   "execution_count": null,
   "metadata": {
    "scrolled": true
   },
   "outputs": [],
   "source": [
    "weather_df = pd.read_csv(\n",
    "    '../data/weather.csv', \n",
    "    usecols=['datetime[utc]', 'precipitation[mm]'], \n",
    "    parse_dates=['datetime[utc]']\n",
    ")\n",
    "weather_df.sort_values(by=['precipitation[mm]'], ascending=False).head(23)\n",
    "# First occurence of a lot of rain in 2017 at rank 23.\n",
    "# This gives us the node index 57337"
   ]
  },
  {
   "cell_type": "code",
   "execution_count": null,
   "metadata": {
    "scrolled": true
   },
   "outputs": [],
   "source": [
    "# Use the node index to find the audio index.\n",
    "# Audio index 290874 chosen.\n",
    "searcher.return_interval(weather_df.loc[57337, 'datetime[utc]'])"
   ]
  },
  {
   "cell_type": "code",
   "execution_count": null,
   "metadata": {},
   "outputs": [],
   "source": [
    "ipd.Audio(searcher.get_audio(290874))"
   ]
  }
 ],
 "metadata": {
  "kernelspec": {
   "display_name": "Python [conda env:connections]",
   "language": "python",
   "name": "conda-env-connections-py"
  },
  "language_info": {
   "codemirror_mode": {
    "name": "ipython",
    "version": 3
   },
   "file_extension": ".py",
   "mimetype": "text/x-python",
   "name": "python",
   "nbconvert_exporter": "python",
   "pygments_lexer": "ipython3",
   "version": "3.6.10"
  }
 },
 "nbformat": 4,
 "nbformat_minor": 4
}
