{
 "cells": [
  {
   "cell_type": "code",
   "execution_count": null,
   "metadata": {},
   "outputs": [],
   "source": [
    "import base64\n",
    "import h5py\n",
    "import IPython.display as ipd\n",
    "import os\n",
    "import pandas as pd\n",
    "import sys\n",
    "\n",
    "from datetime import datetime\n",
    "\n",
    "sys.path.append('/'.join(os.getcwd().split('/')[:-1]) + '/private')\n",
    "from decrypt import readEncryptedTarAudioFile"
   ]
  },
  {
   "cell_type": "code",
   "execution_count": null,
   "metadata": {},
   "outputs": [],
   "source": [
    "%matplotlib inline"
   ]
  },
  {
   "cell_type": "code",
   "execution_count": null,
   "metadata": {},
   "outputs": [],
   "source": [
    "def convert_to_epoch(stamp):\n",
    "    return (stamp - pd.Timestamp('1970-01-01')) // pd.Timedelta('1s')\n",
    "\n",
    "class Searcher:\n",
    "    def __init__(self, node):\n",
    "        self.node = node\n",
    "        \n",
    "        index_path = f'../sonyc/indices/2017/{node}_recording_index.h5'\n",
    "        self.information = h5py.File(index, 'r')['recording_index']\n",
    "        self.timestamps = pd.DataFrame(sensor['recording_index']['timestamp'], columns=['epoch'])\n",
    "        \n",
    "    def return_interval(self, start, stop=None):\n",
    "        if stop is None:\n",
    "            stop = start + pd.Timedelta(minutes=60)\n",
    "            \n",
    "        lower_bound = convert_to_epoch(start) <= self.timestamps['epoch']\n",
    "        upper_bound = self.timestamps['epoch'] <= convert_to_epoch(stop)\n",
    "        \n",
    "        interval = self.timestamps[lower_bound & upper_bound].reset_index()\n",
    "        interval['utc'] = pd.to_datetime(\n",
    "            interval['epoch'], \n",
    "            unit='s', \n",
    "            utc=True, \n",
    "            infer_datetime_format=True\n",
    "        )\n",
    "        \n",
    "        return interval\n",
    "    \n",
    "    def get_audio(self, index):\n",
    "        information = self.information[index]\n",
    "        audio_path = '../sonyc/' + information[1].decode('utf-8')\n",
    "        return base64.decodebytes(readEncryptedTarAudioFile(audio_path, information[2]))"
   ]
  },
  {
   "cell_type": "code",
   "execution_count": null,
   "metadata": {},
   "outputs": [],
   "source": [
    "weather_df = pd.read_csv(\n",
    "    '../data/weather.csv', \n",
    "    usecols=['datetime[utc]', 'precipitation[mm]'], \n",
    "    parse_dates=['datetime[utc]']\n",
    ")\n",
    "weather_df.sort_values(by=['precipitation[mm]'], ascending=False).head(25)"
   ]
  },
  {
   "cell_type": "code",
   "execution_count": null,
   "metadata": {},
   "outputs": [],
   "source": [
    "searcher = Searcher('sonycnode-b827eb2a1bce.sonyc')"
   ]
  },
  {
   "cell_type": "code",
   "execution_count": null,
   "metadata": {},
   "outputs": [],
   "source": [
    "ipd.Audio(base64.decodebytes(searcher.get_audio(290874)))"
   ]
  }
 ],
 "metadata": {
  "kernelspec": {
   "display_name": "Python [conda env:connections]",
   "language": "python",
   "name": "conda-env-connections-py"
  },
  "language_info": {
   "codemirror_mode": {
    "name": "ipython",
    "version": 3
   },
   "file_extension": ".py",
   "mimetype": "text/x-python",
   "name": "python",
   "nbconvert_exporter": "python",
   "pygments_lexer": "ipython3",
   "version": "3.6.10"
  }
 },
 "nbformat": 4,
 "nbformat_minor": 4
}
