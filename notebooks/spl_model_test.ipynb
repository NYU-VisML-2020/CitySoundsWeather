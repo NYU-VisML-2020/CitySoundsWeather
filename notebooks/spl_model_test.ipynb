{
 "cells": [
  {
   "cell_type": "markdown",
   "metadata": {},
   "source": [
    "# Predicting rain from SPL"
   ]
  },
  {
   "cell_type": "markdown",
   "metadata": {},
   "source": [
    "## Imports"
   ]
  },
  {
   "cell_type": "code",
   "execution_count": null,
   "metadata": {},
   "outputs": [],
   "source": [
    "import pandas as pd\n",
    "import numpy as np\n",
    "import altair as alt\n",
    "import math"
   ]
  },
  {
   "cell_type": "code",
   "execution_count": null,
   "metadata": {},
   "outputs": [],
   "source": [
    "from sklearn.model_selection import train_test_split\n",
    "from sklearn.metrics import accuracy_score, f1_score, confusion_matrix\n",
    "from sklearn.ensemble import RandomForestClassifier\n",
    "from sklearn import linear_model\n",
    "from sklearn.svm import SVC\n",
    "from sklearn.neighbors import KNeighborsClassifier\n",
    "from sklearn.ensemble import AdaBoostClassifier\n",
    "from sklearn.neural_network import MLPClassifier\n",
    "from sklearn.model_selection import GridSearchCV"
   ]
  },
  {
   "cell_type": "markdown",
   "metadata": {},
   "source": [
    "## Data set up"
   ]
  },
  {
   "cell_type": "code",
   "execution_count": null,
   "metadata": {},
   "outputs": [],
   "source": [
    "SEED = 2660280232880537243 % 2**32"
   ]
  },
  {
   "cell_type": "code",
   "execution_count": null,
   "metadata": {},
   "outputs": [],
   "source": [
    "all_train_data = pd.read_pickle('../data/spl-train.pkl')\n",
    "all_test_data = pd.read_pickle('../data/spl-test.pkl')"
   ]
  },
  {
   "cell_type": "code",
   "execution_count": null,
   "metadata": {
    "scrolled": true
   },
   "outputs": [],
   "source": [
    "all_train_data.head(2)"
   ]
  },
  {
   "cell_type": "code",
   "execution_count": null,
   "metadata": {},
   "outputs": [],
   "source": [
    "features =  ['spl_mean', 'spl_std', 'spl_l2diff', 'spl_entropy']\n",
    "precip = 'precipitation[mm]'\n",
    "label = 'rain_binary'"
   ]
  },
  {
   "cell_type": "code",
   "execution_count": null,
   "metadata": {},
   "outputs": [],
   "source": [
    "all_train_data[label] = (all_train_data[precip] > 0).astype(int)\n",
    "all_test_data[label] = (all_test_data[precip] > 0).astype(int)"
   ]
  },
  {
   "cell_type": "code",
   "execution_count": null,
   "metadata": {},
   "outputs": [],
   "source": [
    "X_train = all_train_data[features].to_numpy()\n",
    "y_train = all_train_data[label].to_numpy()"
   ]
  },
  {
   "cell_type": "code",
   "execution_count": null,
   "metadata": {},
   "outputs": [],
   "source": [
    "X_test = all_test_data[features].to_numpy()\n",
    "y_test = all_test_data[label].to_numpy()"
   ]
  },
  {
   "cell_type": "markdown",
   "metadata": {},
   "source": [
    "## Metrics"
   ]
  },
  {
   "cell_type": "code",
   "execution_count": null,
   "metadata": {},
   "outputs": [],
   "source": [
    "def get_metrics(y_true, y_pred, show=True):\n",
    "    f1 = f1_score(y_true, y_pred, average='binary')\n",
    "    acc = accuracy_score(y_true, y_pred)\n",
    "    tn, fp, fn, tp = confusion_matrix(y_true, y_pred).ravel()\n",
    "    \n",
    "    if show:\n",
    "        print(f'F1 Score: {f1:0.3f}')\n",
    "        print(f'Accuracy: {acc:0.2%}')\n",
    "        print(f'TN: {tn}, FP: {fp}, FN: {fn}, TP: {tp}')\n",
    "    \n",
    "    return {\n",
    "        'F1': f1,\n",
    "        'Accuracy': acc,\n",
    "        'Confusion Matrix': [tn, fp, fn, tp],\n",
    "    }"
   ]
  },
  {
   "cell_type": "markdown",
   "metadata": {},
   "source": [
    "## Random forest"
   ]
  },
  {
   "cell_type": "markdown",
   "metadata": {},
   "source": [
    "### Best parameters:\n",
    "\n",
    "```\n",
    "{'max_depth': 8, 'min_samples_split': 4, 'n_estimators': 200}\n",
    "```\n",
    "\n",
    "### Test results:\n",
    "\n",
    "F1 Score: 0.543\n",
    "\n",
    "Accuracy: 59.91%\n",
    "\n",
    "TN: 4111, FP: 1621, FN: 2949, TP: 2719"
   ]
  },
  {
   "cell_type": "code",
   "execution_count": null,
   "metadata": {},
   "outputs": [],
   "source": [
    "param_grid = {\n",
    "    'max_depth': [2, 4, 8, 16, 32, 64],\n",
    "    'n_estimators': [50, 100, 200, 300, 400],\n",
    "    'min_samples_split': [2, 4, 8, 16, 32],\n",
    "}\n",
    "\n",
    "rf = RandomForestClassifier()\n",
    "clf_rf = GridSearchCV(rf, param_grid, cv=5, verbose=2)\n",
    "clf_rf.fit(X_train, y_train)\n",
    "\n",
    "print(clf_rf.best_params_)\n",
    "print(clf_rf.best_score_)"
   ]
  },
  {
   "cell_type": "code",
   "execution_count": null,
   "metadata": {},
   "outputs": [],
   "source": [
    "y_pred_rf = clf_rf.predict(X_test)"
   ]
  },
  {
   "cell_type": "code",
   "execution_count": null,
   "metadata": {},
   "outputs": [],
   "source": [
    "_ = get_metrics(y_test, y_pred_rf)"
   ]
  },
  {
   "cell_type": "markdown",
   "metadata": {},
   "source": [
    "## SVM"
   ]
  },
  {
   "cell_type": "markdown",
   "metadata": {},
   "source": [
    "### Best parameters:\n",
    "```\n",
    "{'C': 0.5, 'gamma': 'auto', 'kernel': 'rbf'}\n",
    "```\n",
    "\n",
    "### Test results:\n",
    "F1 Score: 0.556\n",
    "\n",
    "Accuracy: 59.78%\n",
    "\n",
    "TN: 3948, FP: 1784, FN: 2801, TP: 2867"
   ]
  },
  {
   "cell_type": "code",
   "execution_count": null,
   "metadata": {
    "scrolled": true
   },
   "outputs": [],
   "source": [
    "param_grid = {\n",
    "    'C': [0.1, 0.5, 1.0, 5.0, 10.0, 50.0, 100.0, 500.0],\n",
    "    'gamma': ['scale', 'auto'],\n",
    "    'kernel': ['rbf', 'sigmoid']\n",
    "}\n",
    "svm = SVC()\n",
    "clf_svm = GridSearchCV(svm, param_grid, cv=5, verbose=2)\n",
    "clf_svm.fit(X_train, y_train)\n",
    "print(clf_svm.best_params_)"
   ]
  },
  {
   "cell_type": "code",
   "execution_count": null,
   "metadata": {},
   "outputs": [],
   "source": [
    "clf_svm.best_score_"
   ]
  },
  {
   "cell_type": "code",
   "execution_count": null,
   "metadata": {},
   "outputs": [],
   "source": [
    "y_pred_svm = clf_svm.predict(X_test)\n",
    "_ = get_metrics(y_test, y_pred_svm)"
   ]
  },
  {
   "cell_type": "code",
   "execution_count": null,
   "metadata": {},
   "outputs": [],
   "source": []
  },
  {
   "cell_type": "markdown",
   "metadata": {},
   "source": [
    "## KNN Classifier\n",
    "\n",
    "### Best parameters:\n",
    "```\n",
    "{'algorithm': 'auto', 'n_neighbors': 500, 'p': 1, 'weights': 'distance'}\n",
    "```\n",
    "\n",
    "### Test results:\n",
    "\n",
    "F1 Score: 0.545\n",
    "\n",
    "Accuracy: 59.92%\n",
    "\n",
    "TN: 4097, FP: 1635, FN: 2934, TP: 2734"
   ]
  },
  {
   "cell_type": "code",
   "execution_count": null,
   "metadata": {},
   "outputs": [],
   "source": [
    "param_grid = {\n",
    "    'n_neighbors': [1, 5, 10, 50, 100, 500, 1000],\n",
    "    'weights': ['uniform', 'distance'],\n",
    "    'algorithm': ['auto', 'ball_tree', 'kd_tree', 'brute'],\n",
    "    'p': [1, 2],\n",
    "}\n",
    "knn = KNeighborsClassifier()\n",
    "clf_knn = GridSearchCV(knn, param_grid, cv=5, verbose=2)\n",
    "clf_knn.fit(X_train, y_train)\n",
    "print(clf_knn.best_params_)\n",
    "print(clf_knn.best_score_)"
   ]
  },
  {
   "cell_type": "code",
   "execution_count": null,
   "metadata": {},
   "outputs": [],
   "source": [
    "y_pred_knn = clf_knn.predict(X_test)\n",
    "_ = get_metrics(y_test, y_pred_knn)"
   ]
  },
  {
   "cell_type": "markdown",
   "metadata": {},
   "source": [
    "## Neural Network\n",
    "\n",
    "### Best parameters:\n",
    "```\n",
    "{\n",
    "    'activation': 'tanh',\n",
    "    'alpha': 0.001,\n",
    "    'hidden_layer_sizes': (16, 16, 16),\n",
    "    'learning_rate_init': 0.001,\n",
    "    'solver': 'adam'\n",
    "}\n",
    "```\n",
    "\n",
    "### Test results:\n",
    "F1 Score: 0.549\n",
    "\n",
    "Accuracy: 59.32%\n",
    "\n",
    "TN: 3941, FP: 1791, FN: 2847, TP: 2821"
   ]
  },
  {
   "cell_type": "code",
   "execution_count": null,
   "metadata": {},
   "outputs": [],
   "source": [
    "param_grid = [\n",
    "    {\n",
    "        'hidden_layer_sizes': [(32,), (16, 16), (32, 64), (16, 16, 16)],\n",
    "        'activation': ['logistic', 'tanh', 'relu'],\n",
    "        'solver': ['adam'],\n",
    "        'alpha': [0.0001, 0.001, 0.01],\n",
    "        'learning_rate_init': [0.0001, 0.001, 0.01]\n",
    "    },\n",
    "]\n",
    "mpl = MLPClassifier()\n",
    "clf_mlp = GridSearchCV(mpl, param_grid, cv=5, verbose=2)\n",
    "clf_mlp.fit(X_train, y_train)\n",
    "print(clf_mlp.best_params_)"
   ]
  },
  {
   "cell_type": "code",
   "execution_count": null,
   "metadata": {},
   "outputs": [],
   "source": [
    "print(clf_mlp.best_score_)"
   ]
  },
  {
   "cell_type": "code",
   "execution_count": null,
   "metadata": {},
   "outputs": [],
   "source": [
    "y_pred_mlp = clf_mlp.predict(X_test)"
   ]
  },
  {
   "cell_type": "code",
   "execution_count": null,
   "metadata": {},
   "outputs": [],
   "source": [
    "_ = get_metrics(y_test, y_pred_mlp)"
   ]
  },
  {
   "cell_type": "code",
   "execution_count": null,
   "metadata": {},
   "outputs": [],
   "source": []
  }
 ],
 "metadata": {
  "kernelspec": {
   "display_name": "Python 3",
   "language": "python",
   "name": "python3"
  },
  "language_info": {
   "codemirror_mode": {
    "name": "ipython",
    "version": 3
   },
   "file_extension": ".py",
   "mimetype": "text/x-python",
   "name": "python",
   "nbconvert_exporter": "python",
   "pygments_lexer": "ipython3",
   "version": "3.7.4"
  }
 },
 "nbformat": 4,
 "nbformat_minor": 4
}
