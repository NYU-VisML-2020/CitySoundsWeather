{
 "cells": [
  {
   "cell_type": "code",
   "execution_count": null,
   "metadata": {},
   "outputs": [],
   "source": [
    "import h5py\n",
    "import matplotlib.pyplot as plt\n",
    "import pandas as pd\n",
    "\n",
    "from sklearn.ensemble import RandomForestClassifier\n",
    "from sklearn.linear_model import LogisticRegression\n",
    "from sklearn.metrics import classification_report\n",
    "from sklearn.model_selection import GridSearchCV\n",
    "from sklearn.svm import SVC"
   ]
  },
  {
   "cell_type": "code",
   "execution_count": null,
   "metadata": {},
   "outputs": [],
   "source": [
    "%matplotlib inline"
   ]
  },
  {
   "cell_type": "code",
   "execution_count": null,
   "metadata": {},
   "outputs": [],
   "source": [
    "node1 = 'sonycnode-b827eb86d458.sonyc'\n",
    "node2 = 'sonycnode-b827eb329ab8.sonyc'\n",
    "node3 = 'sonycnode-b827ebb40450.sonyc'\n",
    "node4 = 'sonycnode-b827eb73e772.sonyc'\n",
    "\n",
    "path1 = f'../sonyc/spl/2017/{node1}.h5'\n",
    "path2 = f'../sonyc/spl/2017/{node2}.h5'\n",
    "path3 = f'../sonyc/spl/2017/{node3}.h5'\n",
    "path4 = f'../sonyc/spl/2017/{node4}.h5'"
   ]
  },
  {
   "cell_type": "code",
   "execution_count": null,
   "metadata": {},
   "outputs": [],
   "source": [
    "train_start, train_end = pd.Timestamp('2017-04-01'), pd.Timestamp('2017-07-01')\n",
    "test_start, test_end = pd.Timestamp('2017-07-01'), pd.Timestamp('2017-08-01')"
   ]
  },
  {
   "cell_type": "code",
   "execution_count": null,
   "metadata": {
    "scrolled": true
   },
   "outputs": [],
   "source": [
    "def load_spl_data(path):\n",
    "    df = pd.read_hdf(path, key='minute_intervals')\n",
    "    df = df[df['timestamp'] < 1514764800] # remove any 2018 values\n",
    "    df['datetime[utc]'] = pd.to_datetime(df['timestamp'], unit='s')\n",
    "    \n",
    "    return df[['datetime[utc]', 'dBAS_mean']]\n",
    "\n",
    "def reduce_spl_data(df, start, end):\n",
    "    # reduced data to mean of a given hourly interval\n",
    "    reduced_df = df[\n",
    "        (start <= df['datetime[utc]']) & \n",
    "        (df['datetime[utc]'] < end) &\n",
    "        (df['datetime[utc]'].dt.minute == 51)\n",
    "    ].reset_index(drop=True)\n",
    "    \n",
    "    grouped_df = reduced_df.groupby([\n",
    "        reduced_df['datetime[utc]'].dt.month,\n",
    "        reduced_df['datetime[utc]'].dt.day,\n",
    "        reduced_df['datetime[utc]'].dt.hour]\n",
    "    ).mean()\n",
    "    \n",
    "    new_date_col = (grouped_df\n",
    "        .index\n",
    "        .to_series()\n",
    "        .apply(lambda t: pd.Timestamp(*((2017,) + t + (51,))))\n",
    "        .reset_index(drop=True))\n",
    "    \n",
    "    grouped_df.reset_index(drop=True, inplace=True)\n",
    "    grouped_df['datetime[utc]'] = new_date_col\n",
    "\n",
    "    return grouped_df[['datetime[utc]', 'dBAS_mean']]\n",
    "\n",
    "# load spl stuff\n",
    "spl1_df = load_spl_data(path1)\n",
    "reduced_spl1_df = reduce_spl_data(spl1_df, train_start, test_end)"
   ]
  },
  {
   "cell_type": "code",
   "execution_count": null,
   "metadata": {},
   "outputs": [],
   "source": [
    "# load weather stuff\n",
    "weather_df = pd.read_csv(\n",
    "    '../data/weather.csv', \n",
    "    usecols=['datetime[utc]', 'precipitation[mm]'], \n",
    "    parse_dates=['datetime[utc]']\n",
    ")\n",
    "\n",
    "reduced_weather_df = weather_df[\n",
    "    (train_start <= weather_df['datetime[utc]']) & \n",
    "    (weather_df['datetime[utc]'] < test_end) &\n",
    "    (weather_df['datetime[utc]'].dt.minute == 51) # only using this rolling window\n",
    "].reset_index(drop=True)"
   ]
  },
  {
   "cell_type": "code",
   "execution_count": null,
   "metadata": {},
   "outputs": [],
   "source": [
    "# TODO: verify later that each hour is also represented\n",
    "working_df = pd.merge(reduced_weather_df, reduced_spl1_df, how='outer', on='datetime[utc]').sort_values(by='datetime[utc]')\n",
    "\n",
    "if any(working_df['precipitation[mm]'].isna()):\n",
    "    print(f\"{len(working_df[working_df['precipitation[mm]'].isna()])} NaNs in 'precipitation[mm],' replacing them with 0.0\")\n",
    "    working_df.loc[working_df[working_df['precipitation[mm]'].isna()].index, 'precipitation[mm]'] = 0.0\n",
    "    \n",
    "if any(working_df['dBAS_mean'].isna()):\n",
    "    avg = working_df['dBAS_mean'].dropna().mean()\n",
    "    print(f\"{len(working_df[working_df['dBAS_mean'].isna()])} NaNs in 'dBAS_mean,' replacing them with {avg}\")\n",
    "    working_df.loc[working_df[working_df['dBAS_mean'].isna()].index, 'dBAS_mean'] = avg"
   ]
  },
  {
   "cell_type": "code",
   "execution_count": null,
   "metadata": {},
   "outputs": [],
   "source": [
    "plotting_data = working_df[\n",
    "    (pd.Timestamp('2017-04-01') <= working_df['datetime[utc]']) & \n",
    "    (working_df['datetime[utc]'] < pd.Timestamp('2017-05-01'))\n",
    "]\n",
    "plotting_data.plot(x='precipitation[mm]', y='dBAS_mean', kind='scatter')"
   ]
  },
  {
   "cell_type": "code",
   "execution_count": null,
   "metadata": {},
   "outputs": [],
   "source": [
    "working_df.plot(x='precipitation[mm]', y='dBAS_mean', kind='scatter')"
   ]
  },
  {
   "cell_type": "code",
   "execution_count": null,
   "metadata": {},
   "outputs": [],
   "source": [
    "# add rained class\n",
    "working_df['rained'] = (working_df['precipitation[mm]'] > 0.00).astype(int)"
   ]
  },
  {
   "cell_type": "code",
   "execution_count": null,
   "metadata": {},
   "outputs": [],
   "source": [
    "# assumption: time independent\n",
    "training_cla_df = working_df[\n",
    "    (train_start <= working_df['datetime[utc]']) & \n",
    "    (working_df['datetime[utc]'] < train_end)\n",
    "][['rained', 'dBAS_mean']]\n",
    "\n",
    "testing_cla_df = working_df[\n",
    "    (test_start <= working_df['datetime[utc]']) & \n",
    "    (working_df['datetime[utc]'] < test_end)\n",
    "][['rained', 'dBAS_mean']]\n",
    "\n",
    "training_reg_df = working_df[\n",
    "    (train_start <= working_df['datetime[utc]']) & \n",
    "    (working_df['datetime[utc]'] < train_end)\n",
    "][['precipitation[mm]', 'dBAS_mean']]\n",
    "\n",
    "testing_reg_df = working_df[\n",
    "    (test_start <= working_df['datetime[utc]']) & \n",
    "    (working_df['datetime[utc]'] < test_end)\n",
    "][['precipitation[mm]', 'dBAS_mean']]"
   ]
  },
  {
   "cell_type": "code",
   "execution_count": null,
   "metadata": {},
   "outputs": [],
   "source": [
    "X_train, y_train = (\n",
    "    training_cla_df['dBAS_mean'].to_numpy().reshape(-1, 1), \n",
    "    training_cla_df['rained'].to_numpy()\n",
    ")\n",
    "X_test, y_test = (\n",
    "    testing_cla_df['dBAS_mean'].to_numpy().reshape(-1, 1), \n",
    "    testing_cla_df['rained'].to_numpy()\n",
    ")"
   ]
  },
  {
   "cell_type": "markdown",
   "metadata": {},
   "source": [
    "### Logistic Regression Classification"
   ]
  },
  {
   "cell_type": "code",
   "execution_count": null,
   "metadata": {},
   "outputs": [],
   "source": [
    "clf_logistic = LogisticRegression()\n",
    "clf_logistic.fit(X_train, y_train)"
   ]
  },
  {
   "cell_type": "code",
   "execution_count": null,
   "metadata": {},
   "outputs": [],
   "source": [
    "clf_logistic.score(X_test, y_test)"
   ]
  },
  {
   "cell_type": "markdown",
   "metadata": {},
   "source": [
    "### SVM Classification"
   ]
  },
  {
   "cell_type": "code",
   "execution_count": null,
   "metadata": {},
   "outputs": [],
   "source": [
    "svm = SVC(gamma='auto', class_weight='balanced')\n",
    "param_grid = {\n",
    "    'C': list(range(10, 31)),\n",
    "}\n",
    "clf_svm = GridSearchCV(svm, param_grid, cv=5)\n",
    "clf_svm.fit(X_train, y_train)"
   ]
  },
  {
   "cell_type": "code",
   "execution_count": null,
   "metadata": {},
   "outputs": [],
   "source": [
    "clf_svm.best_params_"
   ]
  },
  {
   "cell_type": "code",
   "execution_count": null,
   "metadata": {},
   "outputs": [],
   "source": [
    "clf_svm.score(X_test, y_test)"
   ]
  },
  {
   "cell_type": "code",
   "execution_count": null,
   "metadata": {},
   "outputs": [],
   "source": [
    "print(classification_report(y_test, clf_svm.predict(X_test)))"
   ]
  },
  {
   "cell_type": "markdown",
   "metadata": {},
   "source": [
    "### Random Forest Classification"
   ]
  },
  {
   "cell_type": "code",
   "execution_count": null,
   "metadata": {},
   "outputs": [],
   "source": [
    "rf = RandomForestClassifier(max_depth=2, class_weight='balanced')\n",
    "param_grid = {\n",
    "    'max_depth': [2, 4, 8, 16, 32],\n",
    "    'n_estimators': [100, 200, 300, 400]\n",
    "}\n",
    "clf_rf = GridSearchCV(rf, param_grid, cv=5)\n",
    "clf_rf.fit(X_train, y_train)"
   ]
  },
  {
   "cell_type": "code",
   "execution_count": null,
   "metadata": {},
   "outputs": [],
   "source": [
    "clf_rf.score(X_test, y_test)"
   ]
  },
  {
   "cell_type": "code",
   "execution_count": null,
   "metadata": {},
   "outputs": [],
   "source": [
    "clf_rf.best_params_"
   ]
  },
  {
   "cell_type": "code",
   "execution_count": null,
   "metadata": {},
   "outputs": [],
   "source": [
    "print(classification_report(y_test, clf_rf.predict(X_test)))"
   ]
  }
 ],
 "metadata": {
  "kernelspec": {
   "display_name": "Python [conda env:connections]",
   "language": "python",
   "name": "conda-env-connections-py"
  },
  "language_info": {
   "codemirror_mode": {
    "name": "ipython",
    "version": 3
   },
   "file_extension": ".py",
   "mimetype": "text/x-python",
   "name": "python",
   "nbconvert_exporter": "python",
   "pygments_lexer": "ipython3",
   "version": "3.6.10"
  }
 },
 "nbformat": 4,
 "nbformat_minor": 4
}
