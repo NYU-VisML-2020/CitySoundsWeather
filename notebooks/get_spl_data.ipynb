{
 "cells": [
  {
   "cell_type": "code",
   "execution_count": null,
   "metadata": {},
   "outputs": [],
   "source": [
    "import h5py\n",
    "import os\n",
    "import pandas as pd\n",
    "import numpy as np\n",
    "import scipy.stats\n",
    "import sys\n",
    "import altair as alt\n",
    "import math\n",
    "from datetime import datetime, timedelta"
   ]
  },
  {
   "cell_type": "code",
   "execution_count": null,
   "metadata": {},
   "outputs": [],
   "source": [
    "sys.path.append('/'.join(os.getcwd().split('/')[:-1]) + '/library')\n",
    "from searcher import Searcher"
   ]
  },
  {
   "cell_type": "code",
   "execution_count": null,
   "metadata": {},
   "outputs": [],
   "source": [
    "spl_columns = [\n",
    "    'spl_vector',\n",
    "    'spl_mean',\n",
    "    'spl_std',\n",
    "    'spl_l2diff',\n",
    "    'spl_l2diff_hourly_pct',\n",
    "    'spl_entropy'\n",
    "]"
   ]
  },
  {
   "cell_type": "code",
   "execution_count": null,
   "metadata": {},
   "outputs": [],
   "source": [
    "def preprocess(df):\n",
    "    df['node'] = df['path'].str.split('/').str[2]\n",
    "    \n",
    "    get_path = lambda x: f'../sonyc/indices/2017/{x}_recording_index.h5'\n",
    "    \n",
    "    df['index_path'] = df['node'].map(get_path)\n",
    "    \n",
    "    df.drop_duplicates(subset=['node_timestamp', 'node'], inplace=True)\n",
    "    \n",
    "    return df"
   ]
  },
  {
   "cell_type": "code",
   "execution_count": null,
   "metadata": {},
   "outputs": [],
   "source": [
    "def get_predictions(row, cache):\n",
    "    if row['index_path'] != cache['path']:\n",
    "        \n",
    "        print(f\"old path = {cache['path']}\")\n",
    "        print(f\"new path = {row['index_path']}\")\n",
    "        \n",
    "        cache['path'] = row['index_path']\n",
    "        cache['data'] = h5py.File(cache['path'], 'r')['recording_index']\n",
    "        cache['timestamps'] = pd.DataFrame(cache['data']['timestamp'], columns=['epoch'])\n",
    "    \n",
    "    timestamp = row['node_timestamp']\n",
    "    \n",
    "    index = cache['timestamps'][cache['timestamps']['epoch'] == timestamp].index[0]\n",
    "    \n",
    "    return list(cache['data'][index][spl_columns])"
   ]
  },
  {
   "cell_type": "code",
   "execution_count": null,
   "metadata": {},
   "outputs": [],
   "source": [
    "def setup_predictions(df):\n",
    "    cache = {\n",
    "        'path': None,\n",
    "        'data': None,\n",
    "        'timestamps': None\n",
    "    }\n",
    "    \n",
    "    # sort by path so that we're not jumping around to different files\n",
    "    df.sort_values(by=['index_path', 'node_timestamp'], inplace=True)\n",
    "    \n",
    "    prediction_df = df.apply(get_predictions,\n",
    "                             axis='columns',\n",
    "                             result_type='expand',\n",
    "                             args=[cache])\n",
    "    \n",
    "    prediction_df.columns = spl_columns\n",
    "    \n",
    "    df_all = pd.concat([df, prediction_df], axis=1)\n",
    "    \n",
    "    # undo the sorting by path to get the original order\n",
    "    df_all.sort_index(inplace=True)\n",
    "    \n",
    "    return df_all"
   ]
  },
  {
   "cell_type": "code",
   "execution_count": null,
   "metadata": {},
   "outputs": [],
   "source": [
    "def output_predictions(df, suffix):\n",
    "    columns_to_output = ['node_timestamp', 'precipitation[mm]', 'node'] + spl_columns[1:]\n",
    "    df.to_csv(f'../data/spl-{suffix}.csv',\n",
    "              columns=columns_to_output,\n",
    "              index=False)\n",
    "    \n",
    "    df.to_pickle(f'../data/spl-{suffix}.pkl')"
   ]
  },
  {
   "cell_type": "code",
   "execution_count": null,
   "metadata": {},
   "outputs": [],
   "source": [
    "DIFF = 30\n",
    "SEED = 2660280232880537243 % 2**32\n",
    "N = 19000\n",
    "\n",
    "rainy = pd.read_csv('../data/audio-paths-rained.csv')\n",
    "rainy_reduced = rainy[rainy['diff'].abs() <= DIFF].sample(N, random_state=SEED)\n",
    "\n",
    "nonrainy = pd.read_csv('../data/audio-paths-nonrained.csv')\n",
    "nonrainy_reduced = nonrainy[nonrainy['diff'].abs() <= DIFF].sample(N, random_state=SEED)\n",
    "\n",
    "data = (pd.concat((rainy_reduced, nonrainy_reduced))\n",
    "            .sample(frac=1, random_state=SEED)\n",
    "            .reset_index(drop=True))"
   ]
  },
  {
   "cell_type": "code",
   "execution_count": null,
   "metadata": {},
   "outputs": [],
   "source": [
    "data"
   ]
  },
  {
   "cell_type": "code",
   "execution_count": null,
   "metadata": {},
   "outputs": [],
   "source": [
    "preprocessed_data = preprocess(data.copy())"
   ]
  },
  {
   "cell_type": "code",
   "execution_count": null,
   "metadata": {},
   "outputs": [],
   "source": [
    "preprocessed_data"
   ]
  },
  {
   "cell_type": "code",
   "execution_count": null,
   "metadata": {},
   "outputs": [],
   "source": [
    "df = setup_predictions(preprocessed_data.copy())"
   ]
  },
  {
   "cell_type": "code",
   "execution_count": null,
   "metadata": {},
   "outputs": [],
   "source": [
    "df"
   ]
  },
  {
   "cell_type": "code",
   "execution_count": null,
   "metadata": {},
   "outputs": [],
   "source": [
    "num_train = math.floor(df.shape[0] * .7)\n",
    "train_df = df.iloc[:num_train]\n",
    "test_df = df.iloc[num_train:]"
   ]
  },
  {
   "cell_type": "code",
   "execution_count": null,
   "metadata": {},
   "outputs": [],
   "source": [
    "output_predictions(train_df, 'train')\n",
    "output_predictions(test_df, 'test')"
   ]
  },
  {
   "cell_type": "code",
   "execution_count": null,
   "metadata": {},
   "outputs": [],
   "source": []
  }
 ],
 "metadata": {
  "kernelspec": {
   "display_name": "Python 3",
   "language": "python",
   "name": "python3"
  },
  "language_info": {
   "codemirror_mode": {
    "name": "ipython",
    "version": 3
   },
   "file_extension": ".py",
   "mimetype": "text/x-python",
   "name": "python",
   "nbconvert_exporter": "python",
   "pygments_lexer": "ipython3",
   "version": "3.7.4"
  }
 },
 "nbformat": 4,
 "nbformat_minor": 4
}
