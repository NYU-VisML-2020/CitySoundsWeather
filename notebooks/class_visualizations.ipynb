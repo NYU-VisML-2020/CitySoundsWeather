{
 "cells": [
  {
   "cell_type": "markdown",
   "metadata": {},
   "source": [
    "# Labels vs. precipitation\n",
    "\n",
    "## Imports"
   ]
  },
  {
   "cell_type": "code",
   "execution_count": null,
   "metadata": {},
   "outputs": [],
   "source": [
    "import h5py\n",
    "import os\n",
    "import pandas as pd\n",
    "import numpy as np\n",
    "import sys\n",
    "import altair as alt\n",
    "from datetime import datetime, timedelta"
   ]
  },
  {
   "cell_type": "code",
   "execution_count": null,
   "metadata": {},
   "outputs": [],
   "source": [
    "sys.path.append('/'.join(os.getcwd().split('/')[:-1]) + '/library')\n",
    "from searcher import Searcher"
   ]
  },
  {
   "cell_type": "markdown",
   "metadata": {},
   "source": [
    "## Weather data\n",
    "\n",
    "I'm renaming the columns because square brackets have a special meaning in Altair."
   ]
  },
  {
   "cell_type": "code",
   "execution_count": null,
   "metadata": {},
   "outputs": [],
   "source": [
    "weather_df = pd.read_csv(\n",
    "    '../data/weather-hourly.csv', \n",
    "    usecols=['datetime[utc]', 'precipitation[mm]'], \n",
    "    parse_dates=['datetime[utc]']\n",
    ").rename(columns={'datetime[utc]': 'end_time', 'precipitation[mm]': 'precipitation'})"
   ]
  },
  {
   "cell_type": "code",
   "execution_count": null,
   "metadata": {},
   "outputs": [],
   "source": [
    "april_2017_weather = weather_df[\n",
    "    (weather_df['end_time'].dt.year == 2017) &\n",
    "    (weather_df['end_time'].dt.month == 4) &\n",
    "    (weather_df['end_time'].dt.minute == 51)\n",
    "].copy()"
   ]
  },
  {
   "cell_type": "markdown",
   "metadata": {},
   "source": [
    "The start time is 59m 59s before the end time. This is because `Searcher.return_interval` uses inclusive start and end  times."
   ]
  },
  {
   "cell_type": "code",
   "execution_count": null,
   "metadata": {},
   "outputs": [],
   "source": [
    "april_2017_weather['start_time'] = april_2017_weather['end_time'] - timedelta(seconds=60 * 60 - 1)"
   ]
  },
  {
   "cell_type": "code",
   "execution_count": null,
   "metadata": {},
   "outputs": [],
   "source": [
    "april_2017_weather.head()"
   ]
  },
  {
   "cell_type": "code",
   "execution_count": null,
   "metadata": {},
   "outputs": [],
   "source": [
    "weather_df_2017 =  weather_df[(weather_df['end_time'].dt.year == 2017) &\n",
    "                              (weather_df['end_time'].dt.minute == 51)]\n",
    "precipitation_df_2017 = weather_df_2017[weather_df_2017['precipitation'] > 0].copy()\n",
    "hours_with_precipitation = precipitation_df_2017.shape[0]\n",
    "hours_in_year = 24 * 365\n",
    "print(f'hours with precipitation = {hours_with_precipitation}')\n",
    "print(f'total hours = {hours_in_year}')\n",
    "print(f'percentage of hours with precipitation = {hours_with_precipitation / hours_in_year:.2%}')"
   ]
  },
  {
   "cell_type": "code",
   "execution_count": null,
   "metadata": {},
   "outputs": [],
   "source": [
    "alt.Chart(precipitation_df_2017).mark_bar().encode(\n",
    "    alt.X(\"precipitation:Q\", bin=alt.Bin(maxbins=40), title='Precipitation (mm)'),\n",
    "    y='count()',\n",
    ")"
   ]
  },
  {
   "cell_type": "markdown",
   "metadata": {},
   "source": [
    "## SONYC data"
   ]
  },
  {
   "cell_type": "code",
   "execution_count": null,
   "metadata": {},
   "outputs": [],
   "source": [
    "class Plotter:\n",
    "    def __init__(self, node, searcher, weather_df):\n",
    "        self.node = node\n",
    "        self.searcher = searcher\n",
    "        self.df = weather_df\n",
    "        self.df['spl'] = self.df.apply(self.get_mean_spl, axis=1)\n",
    "\n",
    "\n",
    "    def get_mean_spl(self, row):\n",
    "        interval = self.searcher.return_interval(row['start_time'],\n",
    "                                                 row['end_time'])\n",
    "        info = self.searcher.information[interval['index'].values]\n",
    "        return info['spl_vector'].mean()\n",
    "    \n",
    "    \n",
    "    def scatter(self, data):\n",
    "        return alt.Chart(data).mark_point().encode(\n",
    "            x=alt.X('precipitation:Q',\n",
    "                    title='Precipitation (mm)',\n",
    "                    scale=alt.Scale(zero=False)),\n",
    "            y=alt.Y('spl:Q',\n",
    "                    title='Mean sound pressure level (dBA)',\n",
    "                    scale=alt.Scale(zero=False)),\n",
    "        ).properties(\n",
    "            title=f'{self.node} - hourly amounts'\n",
    "        ).interactive()\n",
    "\n",
    "\n",
    "    def scatter_all_points(self):\n",
    "        return self.scatter(self.df)\n",
    "\n",
    "\n",
    "    def scatter_points_with_precipitation(self):\n",
    "        return self.scatter(self.df[self.df['precipitation'] > 0])\n",
    "\n",
    "\n",
    "    def linechart(self):\n",
    "        rain_chart = alt.Chart(self.df).mark_line().encode(\n",
    "            x=alt.X('end_time:T', title='Date'),\n",
    "            y=alt.Y('precipitation:Q', title='Precipitation (mm)')\n",
    "        ).properties(width=800)\n",
    "        \n",
    "        spl_chart = alt.Chart(self.df).mark_line().encode(\n",
    "            x=alt.X('end_time:T', title='Date'),\n",
    "            y=alt.Y('spl:Q', title='Sound pressure level (dBA)')\n",
    "        ).properties(width=800)\n",
    "        \n",
    "        return alt.vconcat(rain_chart, spl_chart)"
   ]
  },
  {
   "cell_type": "code",
   "execution_count": null,
   "metadata": {},
   "outputs": [],
   "source": [
    "node1 = 'sonycnode-b827eb86d458.sonyc'\n",
    "node3 = 'sonycnode-b827ebb40450.sonyc'\n",
    "node4 = 'sonycnode-b827eb73e772.sonyc'"
   ]
  },
  {
   "cell_type": "code",
   "execution_count": null,
   "metadata": {},
   "outputs": [],
   "source": [
    "searcher1 = Searcher(node1)"
   ]
  },
  {
   "cell_type": "code",
   "execution_count": null,
   "metadata": {},
   "outputs": [],
   "source": [
    "searcher1.information.dtype"
   ]
  },
  {
   "cell_type": "code",
   "execution_count": null,
   "metadata": {},
   "outputs": [],
   "source": [
    "class Predictions:\n",
    "    def __init__(self, node, year=2017):\n",
    "        self.node = node\n",
    "        index_path = f'../sonyc/indices/{year}/{node}_recording_index.h5'\n",
    "        self.information = h5py.File(index_path, 'r')['recording_index']\n",
    "        self.timestamps = pd.DataFrame(self.information['timestamp'], columns=['epoch'])\n",
    "        \n",
    "    def return_interval(self, start, stop=None):\n",
    "        if stop is None:\n",
    "            stop = start + pd.Timedelta(minutes=60)\n",
    "            \n",
    "        lower_bound = convert_to_epoch(start) <= self.timestamps['epoch']\n",
    "        upper_bound = self.timestamps['epoch'] < convert_to_epoch(stop)\n",
    "        \n",
    "        interval = self.timestamps[lower_bound & upper_bound].reset_index()\n",
    "        interval['utc'] = pd.to_datetime(\n",
    "            interval['epoch'], \n",
    "            unit='s', \n",
    "            utc=True, \n",
    "            infer_datetime_format=True\n",
    "        )\n",
    "        "
   ]
  },
  {
   "cell_type": "code",
   "execution_count": null,
   "metadata": {},
   "outputs": [],
   "source": [
    "year = 2017\n",
    "node = node1\n",
    "predictions_path = f'../sonyc/class_predictions/1.0.0/{year}/{node}_class_predictions.h5'"
   ]
  },
  {
   "cell_type": "code",
   "execution_count": null,
   "metadata": {},
   "outputs": [],
   "source": [
    "h5file = h5py.File(predictions_path, 'r')"
   ]
  },
  {
   "cell_type": "code",
   "execution_count": null,
   "metadata": {},
   "outputs": [],
   "source": [
    "h5file.keys()"
   ]
  },
  {
   "cell_type": "code",
   "execution_count": null,
   "metadata": {},
   "outputs": [],
   "source": [
    "coarse = h5file['coarse']"
   ]
  },
  {
   "cell_type": "code",
   "execution_count": null,
   "metadata": {},
   "outputs": [],
   "source": [
    "coarse"
   ]
  },
  {
   "cell_type": "code",
   "execution_count": null,
   "metadata": {},
   "outputs": [],
   "source": [
    "searcher1.information.shape"
   ]
  },
  {
   "cell_type": "code",
   "execution_count": null,
   "metadata": {},
   "outputs": [],
   "source": [
    "coarse.dtype"
   ]
  },
  {
   "cell_type": "code",
   "execution_count": null,
   "metadata": {},
   "outputs": [],
   "source": [
    "coarse[0]"
   ]
  },
  {
   "cell_type": "code",
   "execution_count": null,
   "metadata": {},
   "outputs": [],
   "source": [
    "precipitation_df_2017.head()"
   ]
  },
  {
   "cell_type": "code",
   "execution_count": null,
   "metadata": {},
   "outputs": [],
   "source": [
    "precipitation_df_2017['start_time'] = precipitation_df_2017['end_time'] - timedelta(seconds=60 * 60)"
   ]
  },
  {
   "cell_type": "code",
   "execution_count": null,
   "metadata": {},
   "outputs": [],
   "source": [
    "precipitation_df_2017.shape"
   ]
  },
  {
   "cell_type": "code",
   "execution_count": null,
   "metadata": {},
   "outputs": [],
   "source": [
    "coarse_timestamps = pd.DataFrame(coarse['timestamp'], columns=['epoch'])"
   ]
  },
  {
   "cell_type": "code",
   "execution_count": null,
   "metadata": {},
   "outputs": [],
   "source": [
    "def convert_to_epoch(stamp):\n",
    "    return (stamp - pd.Timestamp('1970-01-01')) // pd.Timedelta('1s')"
   ]
  },
  {
   "cell_type": "code",
   "execution_count": null,
   "metadata": {},
   "outputs": [],
   "source": [
    "def get_interval(self, start, stop=None):\n",
    "    if stop is None:\n",
    "        stop = start + pd.Timedelta(minutes=60)\n",
    "\n",
    "    lower_bound = convert_to_epoch(start) < coarse_timestamps['epoch']\n",
    "    upper_bound = coarse_timestamps['epoch'] <= convert_to_epoch(stop)\n",
    "\n",
    "    interval = coarse_timestamps[lower_bound & upper_bound].reset_index()\n",
    "    interval['utc'] = pd.to_datetime(\n",
    "        interval['epoch'], \n",
    "        unit='s', \n",
    "        utc=True, \n",
    "        infer_datetime_format=True\n",
    "    )\n",
    "    \n",
    "    return interval"
   ]
  },
  {
   "cell_type": "code",
   "execution_count": null,
   "metadata": {},
   "outputs": [],
   "source": [
    "coarse[0]"
   ]
  },
  {
   "cell_type": "code",
   "execution_count": null,
   "metadata": {},
   "outputs": [],
   "source": [
    "labels = list(coarse.dtype.names[2:])"
   ]
  },
  {
   "cell_type": "code",
   "execution_count": null,
   "metadata": {},
   "outputs": [],
   "source": [
    "labels"
   ]
  },
  {
   "cell_type": "code",
   "execution_count": null,
   "metadata": {},
   "outputs": [],
   "source": [
    "def get_mean_label(row, label):\n",
    "    interval = get_interval(row['start_time'], row['end_time'])\n",
    "    info = coarse[interval['index'].values]\n",
    "    if info.shape[0] == 0:\n",
    "        return -1\n",
    "    return info[label].mean()"
   ]
  },
  {
   "cell_type": "code",
   "execution_count": null,
   "metadata": {},
   "outputs": [],
   "source": [
    "for label in labels:\n",
    "    precipitation_df_2017[label] = precipitation_df_2017.apply(get_mean_label, axis=1, args=(label,))"
   ]
  },
  {
   "cell_type": "code",
   "execution_count": null,
   "metadata": {},
   "outputs": [],
   "source": [
    "precipitation_df_2017"
   ]
  },
  {
   "cell_type": "code",
   "execution_count": null,
   "metadata": {},
   "outputs": [],
   "source": [
    "precipitation_df_2017_valid = precipitation_df_2017[precipitation_df_2017['1_engine'] != -1]"
   ]
  },
  {
   "cell_type": "code",
   "execution_count": null,
   "metadata": {},
   "outputs": [],
   "source": [
    "precipitation_df_2017_valid"
   ]
  },
  {
   "cell_type": "code",
   "execution_count": null,
   "metadata": {},
   "outputs": [],
   "source": [
    " def scatter(label):\n",
    "    return alt.Chart(precipitation_df_2017_valid).mark_point().encode(\n",
    "        x=alt.X('precipitation:Q',\n",
    "                title='Precipitation (mm)',\n",
    "                scale=alt.Scale(zero=False)),\n",
    "        y=alt.Y(f'{label}:Q',\n",
    "                title=f'Mean prediction for {label[2:]}',\n",
    "                scale=alt.Scale(zero=False)),\n",
    "    ).properties(\n",
    "        title=f'{label[2:]}'\n",
    "    ).interactive()"
   ]
  },
  {
   "cell_type": "code",
   "execution_count": null,
   "metadata": {},
   "outputs": [],
   "source": [
    "scatter(labels[0])"
   ]
  },
  {
   "cell_type": "code",
   "execution_count": null,
   "metadata": {},
   "outputs": [],
   "source": [
    "scatter(labels[1])"
   ]
  },
  {
   "cell_type": "code",
   "execution_count": null,
   "metadata": {},
   "outputs": [],
   "source": [
    "scatter(labels[2])"
   ]
  },
  {
   "cell_type": "code",
   "execution_count": null,
   "metadata": {},
   "outputs": [],
   "source": [
    "scatter(labels[3])"
   ]
  },
  {
   "cell_type": "code",
   "execution_count": null,
   "metadata": {},
   "outputs": [],
   "source": [
    "scatter(labels[4])"
   ]
  },
  {
   "cell_type": "code",
   "execution_count": null,
   "metadata": {},
   "outputs": [],
   "source": [
    "scatter(labels[5])"
   ]
  },
  {
   "cell_type": "code",
   "execution_count": null,
   "metadata": {},
   "outputs": [],
   "source": [
    "scatter(labels[6])"
   ]
  },
  {
   "cell_type": "code",
   "execution_count": null,
   "metadata": {},
   "outputs": [],
   "source": [
    "scatter(labels[7])"
   ]
  },
  {
   "cell_type": "code",
   "execution_count": null,
   "metadata": {},
   "outputs": [],
   "source": []
  },
  {
   "cell_type": "code",
   "execution_count": null,
   "metadata": {},
   "outputs": [],
   "source": []
  }
 ],
 "metadata": {
  "kernelspec": {
   "display_name": "Python 3",
   "language": "python",
   "name": "python3"
  },
  "language_info": {
   "codemirror_mode": {
    "name": "ipython",
    "version": 3
   },
   "file_extension": ".py",
   "mimetype": "text/x-python",
   "name": "python",
   "nbconvert_exporter": "python",
   "pygments_lexer": "ipython3",
   "version": "3.7.4"
  }
 },
 "nbformat": 4,
 "nbformat_minor": 4
}
