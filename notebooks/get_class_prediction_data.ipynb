{
 "cells": [
  {
   "cell_type": "code",
   "execution_count": null,
   "metadata": {},
   "outputs": [],
   "source": [
    "import h5py\n",
    "import os\n",
    "import pandas as pd\n",
    "import numpy as np\n",
    "import sys\n",
    "import altair as alt\n",
    "import math\n",
    "from datetime import datetime, timedelta"
   ]
  },
  {
   "cell_type": "code",
   "execution_count": null,
   "metadata": {},
   "outputs": [],
   "source": [
    "sys.path.append('/'.join(os.getcwd().split('/')[:-1]) + '/library')\n",
    "from searcher import Searcher"
   ]
  },
  {
   "cell_type": "code",
   "execution_count": null,
   "metadata": {},
   "outputs": [],
   "source": [
    "coarse_labels = [\n",
    "    '1_engine', '2_machinery-impact',\n",
    "    '3_non-machinery-impact', '4_powered-saw',\n",
    "    '5_alert-signal', '6_music',\n",
    "    '7_human-voice', '8_dog'\n",
    "]\n",
    "\n",
    "fine_labels = [\n",
    "    '1-1_small-sounding-engine',\n",
    "    '1-2_medium-sounding-engine',\n",
    "    '1-3_large-sounding-engine',\n",
    "    '2-1_rock-drill',\n",
    "    '2-2_jackhammer',\n",
    "    '2-3_hoe-ram',\n",
    "    '2-4_pile-driver',\n",
    "    '3-1_non-machinery-impact',\n",
    "    '4-1_chainsaw',\n",
    "    '4-2_small-medium-rotating-saw',\n",
    "    '4-3_large-rotating-saw',\n",
    "    '5-1_car-horn',\n",
    "    '5-2_car-alarm',\n",
    "    '5-3_siren',\n",
    "    '5-4_reverse-beeper',\n",
    "    '6-1_stationary-music',\n",
    "    '6-2_mobile-music',\n",
    "    '6-3_ice-cream-truck',\n",
    "    '7-1_person-or-small-group-talking',\n",
    "    '7-2_person-or-small-group-shouting',\n",
    "    '7-3_large-crowd',\n",
    "    '7-4_amplified-speech',\n",
    "    '8-1_dog-barking-whining'\n",
    "]\n",
    "\n",
    "labels = {\n",
    "    'coarse': coarse_labels,\n",
    "    'fine': fine_labels\n",
    "}"
   ]
  },
  {
   "cell_type": "code",
   "execution_count": null,
   "metadata": {},
   "outputs": [],
   "source": [
    "def preprocess(df):\n",
    "    df['node'] = df['path'].str.split('/').str[2]\n",
    "    \n",
    "    get_path = lambda x: f'../sonyc/class_predictions/1.0.0/2017/{x}_class_predictions.h5'\n",
    "    \n",
    "    df['prediction_path'] = df['node'].map(get_path)\n",
    "    \n",
    "    df.drop_duplicates(subset=['node_timestamp', 'node'], inplace=True)\n",
    "    \n",
    "    return df"
   ]
  },
  {
   "cell_type": "code",
   "execution_count": null,
   "metadata": {},
   "outputs": [],
   "source": [
    "def get_predictions(row, cache, granularity):\n",
    "    if row['prediction_path'] != cache['path']:\n",
    "        cache['path'] = row['prediction_path']\n",
    "        cache['data'] = h5py.File(cache['path'], 'r')[granularity]\n",
    "        cache['timestamps'] = pd.DataFrame(cache['data']['timestamp'], columns=['epoch'])\n",
    "        print(f\"new path = {cache['path']}\")\n",
    "    \n",
    "    timestamp = row['node_timestamp']\n",
    "    \n",
    "    index = cache['timestamps'][cache['timestamps']['epoch'] == timestamp].index[0]\n",
    "    \n",
    "    return list(cache['data'][index][labels[granularity]])"
   ]
  },
  {
   "cell_type": "code",
   "execution_count": null,
   "metadata": {},
   "outputs": [],
   "source": [
    "def setup_predictions(df, granularity):\n",
    "    cache = {\n",
    "        'path': None,\n",
    "        'data': None,\n",
    "        'timestamps': None\n",
    "    }\n",
    "    \n",
    "    # sort by path so that we're not jumping around to different files\n",
    "    df.sort_values(by=['prediction_path', 'node_timestamp'], inplace=True)\n",
    "    \n",
    "    prediction_df = df.apply(get_predictions,\n",
    "                             axis='columns',\n",
    "                             result_type='expand',\n",
    "                             args=[cache, granularity])\n",
    "    \n",
    "    prediction_df.columns = labels[granularity]\n",
    "    \n",
    "    df_all = pd.concat([df, prediction_df], axis=1)\n",
    "    \n",
    "    # undo the sorting by path to get the original order\n",
    "    df_all.sort_index(inplace=True)\n",
    "    \n",
    "    return df_all"
   ]
  },
  {
   "cell_type": "code",
   "execution_count": null,
   "metadata": {},
   "outputs": [],
   "source": [
    "def output_predictions(df, suffix, granularity):\n",
    "    columns_to_output = ['node_timestamp', 'precipitation[mm]', 'node'] + labels[granularity]\n",
    "    clean_labels = [w.split('_')[1] for w in labels[granularity]]\n",
    "    header_to_output = ['node_timestamp', 'precipitation[mm]', 'node'] + clean_labels\n",
    "    df.to_csv(f'../data/predictions-{granularity}-{suffix}.csv',\n",
    "              columns=columns_to_output,\n",
    "              index=False,\n",
    "              header=header_to_output)"
   ]
  },
  {
   "cell_type": "code",
   "execution_count": null,
   "metadata": {},
   "outputs": [],
   "source": [
    "DIFF = 30\n",
    "SEED = 2660280232880537243 % 2**32\n",
    "N = 19000\n",
    "\n",
    "rainy = pd.read_csv('../data/audio-paths-rained.csv')\n",
    "rainy_reduced = rainy[rainy['diff'].abs() <= DIFF].sample(N, random_state=SEED)\n",
    "\n",
    "nonrainy = pd.read_csv('../data/audio-paths-nonrained.csv')\n",
    "nonrainy_reduced = nonrainy[nonrainy['diff'].abs() <= DIFF].sample(N, random_state=SEED)\n",
    "\n",
    "data = (pd.concat((rainy_reduced, nonrainy_reduced))\n",
    "            .sample(frac=1, random_state=SEED)\n",
    "            .reset_index(drop=True))"
   ]
  },
  {
   "cell_type": "code",
   "execution_count": null,
   "metadata": {},
   "outputs": [],
   "source": [
    "data"
   ]
  },
  {
   "cell_type": "code",
   "execution_count": null,
   "metadata": {},
   "outputs": [],
   "source": [
    "df_coarse = setup_predictions(preprocess(data.copy()), 'coarse')"
   ]
  },
  {
   "cell_type": "code",
   "execution_count": null,
   "metadata": {},
   "outputs": [],
   "source": [
    "df_coarse"
   ]
  },
  {
   "cell_type": "code",
   "execution_count": null,
   "metadata": {},
   "outputs": [],
   "source": [
    "num_train = math.floor(df_coarse.shape[0] * .7)\n",
    "train_coarse = df_coarse.iloc[:num_train]\n",
    "test_coarse = df_coarse.iloc[num_train:]"
   ]
  },
  {
   "cell_type": "code",
   "execution_count": null,
   "metadata": {},
   "outputs": [],
   "source": [
    "output_predictions(train_coarse, 'train', 'coarse')\n",
    "output_predictions(test_coarse, 'test', 'coarse')"
   ]
  },
  {
   "cell_type": "code",
   "execution_count": null,
   "metadata": {},
   "outputs": [],
   "source": [
    "df_fine = setup_predictions(preprocess(data.copy()), 'fine')"
   ]
  },
  {
   "cell_type": "code",
   "execution_count": null,
   "metadata": {},
   "outputs": [],
   "source": [
    "df_fine"
   ]
  },
  {
   "cell_type": "code",
   "execution_count": null,
   "metadata": {},
   "outputs": [],
   "source": [
    "num_train = math.floor(df_fine.shape[0] * .7)\n",
    "train_fine = df_fine.iloc[:num_train]\n",
    "test_fine = df_fine.iloc[num_train:]"
   ]
  },
  {
   "cell_type": "code",
   "execution_count": null,
   "metadata": {},
   "outputs": [],
   "source": [
    "output_predictions(train_fine, 'train', 'fine')\n",
    "output_predictions(test_fine, 'test', 'fine')"
   ]
  }
 ],
 "metadata": {
  "kernelspec": {
   "display_name": "Python 3",
   "language": "python",
   "name": "python3"
  },
  "language_info": {
   "codemirror_mode": {
    "name": "ipython",
    "version": 3
   },
   "file_extension": ".py",
   "mimetype": "text/x-python",
   "name": "python",
   "nbconvert_exporter": "python",
   "pygments_lexer": "ipython3",
   "version": "3.7.4"
  }
 },
 "nbformat": 4,
 "nbformat_minor": 4
}
