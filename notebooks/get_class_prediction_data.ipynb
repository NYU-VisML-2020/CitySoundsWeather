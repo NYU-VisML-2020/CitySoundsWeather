{
 "cells": [
  {
   "cell_type": "code",
   "execution_count": null,
   "metadata": {},
   "outputs": [],
   "source": [
    "import h5py\n",
    "import os\n",
    "import pandas as pd\n",
    "import numpy as np\n",
    "import sys\n",
    "import altair as alt\n",
    "import math\n",
    "from datetime import datetime, timedelta"
   ]
  },
  {
   "cell_type": "code",
   "execution_count": null,
   "metadata": {},
   "outputs": [],
   "source": [
    "sys.path.append('/'.join(os.getcwd().split('/')[:-1]) + '/library')\n",
    "from searcher import Searcher"
   ]
  },
  {
   "cell_type": "code",
   "execution_count": null,
   "metadata": {},
   "outputs": [],
   "source": [
    "labels = [\n",
    "    '1_engine', '2_machinery-impact',\n",
    "    '3_non-machinery-impact', '4_powered-saw',\n",
    "    '5_alert-signal', '6_music',\n",
    "    '7_human-voice', '8_dog'\n",
    "]"
   ]
  },
  {
   "cell_type": "code",
   "execution_count": null,
   "metadata": {},
   "outputs": [],
   "source": [
    "def preprocess(df):\n",
    "    df['node'] = df['path'].str.split('/').str[2]\n",
    "    \n",
    "    get_path = lambda x: f'../sonyc/class_predictions/1.0.0/2017/{x}_class_predictions.h5'\n",
    "    \n",
    "    df['prediction_path'] = df['node'].map(get_path)\n",
    "    \n",
    "    df.drop_duplicates(subset=['node_timestamp', 'node'], inplace=True)\n",
    "    \n",
    "    return df"
   ]
  },
  {
   "cell_type": "code",
   "execution_count": null,
   "metadata": {},
   "outputs": [],
   "source": [
    "def get_predictions(row, cache, labels):\n",
    "    if row['prediction_path'] != cache['path']:\n",
    "        cache['path'] = row['prediction_path']\n",
    "        cache['data'] = h5py.File(cache['path'], 'r')['coarse']\n",
    "        cache['timestamps'] = pd.DataFrame(cache['data']['timestamp'], columns=['epoch'])\n",
    "        print(f\"new path = {cache['path']}\")\n",
    "\n",
    "    \n",
    "    timestamp = row['node_timestamp']\n",
    "    \n",
    "    index = cache['timestamps'][cache['timestamps']['epoch'] == timestamp].index[0]\n",
    "    \n",
    "    return list(cache['data'][index][labels])"
   ]
  },
  {
   "cell_type": "code",
   "execution_count": null,
   "metadata": {},
   "outputs": [],
   "source": [
    "def setup_predictions(df):\n",
    "    cache = {\n",
    "        'path': None,\n",
    "        'data': None,\n",
    "        'timestamps': None\n",
    "    }\n",
    "    \n",
    "    # sort by path so that we're not jumping around to different files\n",
    "    df.sort_values(by=['prediction_path', 'node_timestamp'], inplace=True)\n",
    "    \n",
    "    prediction_df = df.apply(get_predictions,\n",
    "                             axis='columns',\n",
    "                             result_type='expand',\n",
    "                             args=[cache, labels])\n",
    "    \n",
    "    prediction_df.columns = labels\n",
    "    \n",
    "    df_all = pd.concat([df, prediction_df], axis=1)\n",
    "    \n",
    "    # undo the sorting by path to get the original order\n",
    "    df_all.sort_index(inplace=True)\n",
    "    \n",
    "    return df_all"
   ]
  },
  {
   "cell_type": "code",
   "execution_count": null,
   "metadata": {},
   "outputs": [],
   "source": [
    "def output_predictions(df, suffix):\n",
    "    columns_to_output = ['node_timestamp', 'precipitation[mm]', 'node'] + labels\n",
    "    clean_labels = [w[2:] for w in labels]\n",
    "    header_to_output = ['node_timestamp', 'precipitation[mm]', 'node'] + clean_labels\n",
    "    df.to_csv(f'../data/predictions-{suffix}.csv',\n",
    "              columns=columns_to_output,\n",
    "              index=False,\n",
    "              header=header_to_output)"
   ]
  },
  {
   "cell_type": "code",
   "execution_count": null,
   "metadata": {},
   "outputs": [],
   "source": [
    "DIFF = 30\n",
    "SEED = 2660280232880537243 % 2**32\n",
    "N = 19000\n",
    "\n",
    "rainy = pd.read_csv('../data/audio-paths-rained.csv')\n",
    "rainy_reduced = rainy[rainy['diff'].abs() <= DIFF].sample(N, random_state=SEED)\n",
    "\n",
    "nonrainy = pd.read_csv('../data/audio-paths-nonrained.csv')\n",
    "nonrainy_reduced = nonrainy[nonrainy['diff'].abs() <= DIFF].sample(N, random_state=SEED)\n",
    "\n",
    "data = (pd.concat((rainy_reduced, nonrainy_reduced))\n",
    "            .sample(frac=1, random_state=SEED)\n",
    "            .reset_index(drop=True))"
   ]
  },
  {
   "cell_type": "code",
   "execution_count": null,
   "metadata": {},
   "outputs": [],
   "source": [
    "data"
   ]
  },
  {
   "cell_type": "code",
   "execution_count": null,
   "metadata": {},
   "outputs": [],
   "source": [
    "df_pre = preprocess(data)"
   ]
  },
  {
   "cell_type": "code",
   "execution_count": null,
   "metadata": {},
   "outputs": [],
   "source": [
    "df = setup_predictions(df_pre)"
   ]
  },
  {
   "cell_type": "code",
   "execution_count": null,
   "metadata": {},
   "outputs": [],
   "source": [
    "df"
   ]
  },
  {
   "cell_type": "code",
   "execution_count": null,
   "metadata": {},
   "outputs": [],
   "source": [
    "num_train = math.floor(df.shape[0] * .7)\n",
    "train = df.iloc[:num_train]\n",
    "test = df.iloc[num_train:]"
   ]
  },
  {
   "cell_type": "code",
   "execution_count": null,
   "metadata": {},
   "outputs": [],
   "source": [
    "output_predictions(train, 'train')\n",
    "output_predictions(test, 'test')"
   ]
  }
 ],
 "metadata": {
  "kernelspec": {
   "display_name": "Python 3",
   "language": "python",
   "name": "python3"
  },
  "language_info": {
   "codemirror_mode": {
    "name": "ipython",
    "version": 3
   },
   "file_extension": ".py",
   "mimetype": "text/x-python",
   "name": "python",
   "nbconvert_exporter": "python",
   "pygments_lexer": "ipython3",
   "version": "3.7.4"
  }
 },
 "nbformat": 4,
 "nbformat_minor": 4
}
