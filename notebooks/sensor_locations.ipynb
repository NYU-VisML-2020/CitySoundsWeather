{
 "cells": [
  {
   "cell_type": "code",
   "execution_count": null,
   "metadata": {},
   "outputs": [],
   "source": [
    "import folium\n",
    "import pandas as pd"
   ]
  },
  {
   "cell_type": "code",
   "execution_count": null,
   "metadata": {},
   "outputs": [],
   "source": [
    "with open('../data/nodes.txt', 'r') as f:\n",
    "    lines = f.readlines()\n",
    "    table = [l.strip().split(' ') for l in lines]\n",
    "    df = pd.DataFrame(table, columns=['name', 'latitude', 'longitude'])\n",
    "    df['latitude'] = pd.to_numeric(df['latitude'])\n",
    "    df['longitude'] = pd.to_numeric(df['longitude'])"
   ]
  },
  {
   "cell_type": "code",
   "execution_count": null,
   "metadata": {},
   "outputs": [],
   "source": [
    "# Generate folium map of NYC\n",
    "nyc_map = folium.Map(\n",
    "    location=[40.7127837, -74.0059413],\n",
    "    zoom_start=13\n",
    ")\n",
    "for row in df.itertuples():\n",
    "    folium.Marker(\n",
    "        [row.latitude, row.longitude],\n",
    "        popup=row.name\n",
    "    ).add_to(nyc_map)\n",
    "nyc_map"
   ]
  },
  {
   "cell_type": "code",
   "execution_count": null,
   "metadata": {},
   "outputs": [],
   "source": [
    "# Alternative map of NYC\n",
    "nyc_map = folium.Map(\n",
    "    location=[40.7127837, -74.0059413],\n",
    "    tiles='Stamen Toner',\n",
    "    zoom_start=13\n",
    ")\n",
    "for row in df.itertuples():\n",
    "    folium.Circle(\n",
    "        location=[row.latitude, row.longitude],\n",
    "        popup=row.name,\n",
    "        radius=5,\n",
    "        color='crimson',\n",
    "        fill=False\n",
    "    ).add_to(nyc_map)\n",
    "nyc_map"
   ]
  },
  {
   "cell_type": "code",
   "execution_count": null,
   "metadata": {},
   "outputs": [],
   "source": []
  }
 ],
 "metadata": {
  "kernelspec": {
   "display_name": "Python 3",
   "language": "python",
   "name": "python3"
  },
  "language_info": {
   "codemirror_mode": {
    "name": "ipython",
    "version": 3
   },
   "file_extension": ".py",
   "mimetype": "text/x-python",
   "name": "python",
   "nbconvert_exporter": "python",
   "pygments_lexer": "ipython3",
   "version": "3.7.4"
  }
 },
 "nbformat": 4,
 "nbformat_minor": 4
}
