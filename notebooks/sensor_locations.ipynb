{
 "cells": [
  {
   "cell_type": "code",
   "execution_count": null,
   "metadata": {},
   "outputs": [],
   "source": [
    "import folium\n",
    "import glob\n",
    "import os\n",
    "import pandas as pd"
   ]
  },
  {
   "cell_type": "code",
   "execution_count": null,
   "metadata": {},
   "outputs": [],
   "source": [
    "# get information on all node locations\n",
    "with open('../data/nodes.txt', 'r') as f:\n",
    "    lines = f.readlines()\n",
    "    table = [l.strip().split(' ') for l in lines]\n",
    "    df = pd.DataFrame(table, columns=['name', 'latitude', 'longitude'])\n",
    "    df['latitude'] = pd.to_numeric(df['latitude'])\n",
    "    df['longitude'] = pd.to_numeric(df['longitude'])"
   ]
  },
  {
   "cell_type": "code",
   "execution_count": null,
   "metadata": {},
   "outputs": [],
   "source": [
    "indices_seventeen = set(f.split('_')[0] for f  in os.listdir('../sonyc/indices/2017'))\n",
    "indices_eighteen = set(f.split('/')[-1].split('_')[0] for f in glob.glob('../sonyc/indices/2018/*.h5'))"
   ]
  },
  {
   "cell_type": "code",
   "execution_count": null,
   "metadata": {},
   "outputs": [],
   "source": [
    "spl_seventeen = set('.'.join(f.split('.')[:-1]) for f  in os.listdir('../sonyc/spl/2017'))\n",
    "spl_eighteen = set('.'.join(f.split('.')[:-1]) for f  in os.listdir('../sonyc/spl/2018'))"
   ]
  },
  {
   "cell_type": "code",
   "execution_count": null,
   "metadata": {
    "scrolled": false
   },
   "outputs": [],
   "source": [
    "# Generate folium map of NYC\n",
    "def make_map(df, seventeen, eighteeen):\n",
    "    nyc_map = folium.Map(\n",
    "        location=[40.7127837, -74.0059413],\n",
    "        zoom_start=13\n",
    "    )\n",
    "    for row in df.itertuples():\n",
    "        if row.name in seventeen & eighteen:\n",
    "            folium.Marker(\n",
    "                [row.latitude, row.longitude],\n",
    "                popup=row.name,\n",
    "                icon=folium.Icon(color='green')\n",
    "            ).add_to(nyc_map)        \n",
    "        elif row.name in seventeen:\n",
    "            folium.Marker(\n",
    "                [row.latitude, row.longitude],\n",
    "                popup=row.name,\n",
    "                icon=folium.Icon(color='blue')\n",
    "            ).add_to(nyc_map)\n",
    "        else:\n",
    "            print(f'{row.name} in neither 2017 nor 2018')\n",
    "            folium.Marker(\n",
    "                [row.latitude, row.longitude],\n",
    "                popup=row.name,\n",
    "                icon=folium.Icon(color='red')\n",
    "            ).add_to(nyc_map)\n",
    "    return nyc_map"
   ]
  },
  {
   "cell_type": "markdown",
   "metadata": {},
   "source": [
    "* blue indicates indices available for 2017\n",
    "* green indicates indices available for both 2017 and 2018\n",
    "* red indicates indices are unavailable"
   ]
  },
  {
   "cell_type": "code",
   "execution_count": null,
   "metadata": {},
   "outputs": [],
   "source": [
    "make_map(df, indices_seventeen, indices_eighteen)"
   ]
  },
  {
   "cell_type": "code",
   "execution_count": null,
   "metadata": {},
   "outputs": [],
   "source": [
    "make_map(df, spl_seventeen, spl_eighteen)"
   ]
  },
  {
   "cell_type": "code",
   "execution_count": null,
   "metadata": {},
   "outputs": [],
   "source": [
    "# Alternative map of NYC\n",
    "nyc_map = folium.Map(\n",
    "    location=[40.7127837, -74.0059413],\n",
    "    tiles='Stamen Toner',\n",
    "    zoom_start=13\n",
    ")\n",
    "for row in df.itertuples():\n",
    "    folium.Circle(\n",
    "        location=[row.latitude, row.longitude],\n",
    "        popup=row.name,\n",
    "        radius=5,\n",
    "        color='crimson',\n",
    "        fill=False\n",
    "    ).add_to(nyc_map)\n",
    "nyc_map"
   ]
  }
 ],
 "metadata": {
  "kernelspec": {
   "display_name": "Python [conda env:connections]",
   "language": "python",
   "name": "conda-env-connections-py"
  },
  "language_info": {
   "codemirror_mode": {
    "name": "ipython",
    "version": 3
   },
   "file_extension": ".py",
   "mimetype": "text/x-python",
   "name": "python",
   "nbconvert_exporter": "python",
   "pygments_lexer": "ipython3",
   "version": "3.6.10"
  }
 },
 "nbformat": 4,
 "nbformat_minor": 4
}
