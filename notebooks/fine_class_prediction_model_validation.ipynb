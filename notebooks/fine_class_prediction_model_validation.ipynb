{
 "cells": [
  {
   "cell_type": "markdown",
   "metadata": {},
   "source": [
    "# Predicting rain from class labels"
   ]
  },
  {
   "cell_type": "markdown",
   "metadata": {},
   "source": [
    "## Imports"
   ]
  },
  {
   "cell_type": "code",
   "execution_count": null,
   "metadata": {},
   "outputs": [],
   "source": [
    "import pandas as pd\n",
    "import numpy as np\n",
    "import altair as alt\n",
    "import math"
   ]
  },
  {
   "cell_type": "code",
   "execution_count": null,
   "metadata": {},
   "outputs": [],
   "source": [
    "from sklearn.model_selection import train_test_split\n",
    "from sklearn.metrics import accuracy_score, f1_score\n",
    "from sklearn.ensemble import RandomForestClassifier\n",
    "from sklearn import linear_model\n",
    "from sklearn.svm import SVC\n",
    "from sklearn.neighbors import KNeighborsClassifier\n",
    "from sklearn.ensemble import AdaBoostClassifier\n",
    "from sklearn.neural_network import MLPClassifier\n",
    "from sklearn.model_selection import GridSearchCV"
   ]
  },
  {
   "cell_type": "markdown",
   "metadata": {},
   "source": [
    "## Data set up"
   ]
  },
  {
   "cell_type": "code",
   "execution_count": null,
   "metadata": {},
   "outputs": [],
   "source": [
    "SEED = 2660280232880537243 % 2**32"
   ]
  },
  {
   "cell_type": "code",
   "execution_count": null,
   "metadata": {},
   "outputs": [],
   "source": [
    "all_data = pd.read_csv('../data/predictions-fine-train.csv')"
   ]
  },
  {
   "cell_type": "code",
   "execution_count": null,
   "metadata": {},
   "outputs": [],
   "source": [
    "features = list(all_data.columns[3:-1])\n",
    "precip = 'precipitation[mm]'\n",
    "label = 'rain_binary'"
   ]
  },
  {
   "cell_type": "code",
   "execution_count": null,
   "metadata": {},
   "outputs": [],
   "source": [
    "all_data[label] = (all_data[precip] > 0).astype(int)"
   ]
  },
  {
   "cell_type": "code",
   "execution_count": null,
   "metadata": {},
   "outputs": [],
   "source": [
    "all_data.head()"
   ]
  },
  {
   "cell_type": "code",
   "execution_count": null,
   "metadata": {},
   "outputs": [],
   "source": [
    "X = all_data[features].to_numpy()\n",
    "y = all_data[label].to_numpy()"
   ]
  },
  {
   "cell_type": "code",
   "execution_count": null,
   "metadata": {},
   "outputs": [],
   "source": [
    "X_train, X_val, y_train, y_val = train_test_split(X, y, test_size=0.2, random_state=SEED)"
   ]
  },
  {
   "cell_type": "markdown",
   "metadata": {},
   "source": [
    "## Metrics"
   ]
  },
  {
   "cell_type": "code",
   "execution_count": null,
   "metadata": {},
   "outputs": [],
   "source": [
    "def get_metrics(y_true, y_pred, show=True):\n",
    "    f1 = f1_score(y_val, y_pred, average='binary')\n",
    "    acc = accuracy_score(y_val, y_pred)\n",
    "    \n",
    "    if show:\n",
    "        print(f'F1 Score: {f1:0.3f}\\nAccuracy: {acc:0.2%}')\n",
    "    \n",
    "    return {\n",
    "        'F1': f1,\n",
    "        'accuracy': acc\n",
    "    }"
   ]
  },
  {
   "cell_type": "markdown",
   "metadata": {},
   "source": [
    "## Random forest"
   ]
  },
  {
   "cell_type": "code",
   "execution_count": null,
   "metadata": {},
   "outputs": [],
   "source": [
    "# Results:\n",
    "# {'max_depth': 32, 'min_samples_split': 4, 'n_estimators': 400}\n",
    "#\n",
    "# F1 Score: 0.728\n",
    "# Accuracy: 74.19%\n",
    "#\n",
    "# param_grid = {\n",
    "#     'max_depth': [2, 4, 8, 16, 32, 64],\n",
    "#     'n_estimators': [50, 100, 200, 300, 400],\n",
    "#     'min_samples_split': [2, 4, 8, 16, 32],\n",
    "# }\n",
    "\n",
    "# rf = RandomForestClassifier()\n",
    "# clf_rf = GridSearchCV(rf, param_grid, cv=5)\n",
    "# clf_rf.fit(X_train, y_train)\n",
    "# clf_rf.best_params_"
   ]
  },
  {
   "cell_type": "code",
   "execution_count": null,
   "metadata": {},
   "outputs": [],
   "source": [
    "clf_rf = RandomForestClassifier(max_depth=32, min_samples_split=4, n_estimators=400)\n",
    "clf_rf.fit(X_train, y_train)"
   ]
  },
  {
   "cell_type": "code",
   "execution_count": null,
   "metadata": {},
   "outputs": [],
   "source": [
    "y_pred = clf_rf.predict(X_val)"
   ]
  },
  {
   "cell_type": "code",
   "execution_count": null,
   "metadata": {},
   "outputs": [],
   "source": [
    "# F1 Score: 0.727\n",
    "# Accuracy: 74.19%\n",
    "\n",
    "_ = get_metrics(y_val, y_pred)"
   ]
  },
  {
   "cell_type": "markdown",
   "metadata": {},
   "source": [
    "## Logistic Regression"
   ]
  },
  {
   "cell_type": "code",
   "execution_count": null,
   "metadata": {
    "scrolled": true
   },
   "outputs": [],
   "source": [
    "# Results: {'C': 10.0, 'tol': 1e-07}\n",
    "# F1 Score: 0.679\n",
    "# Accuracy: 67.76%\n",
    "\n",
    "param_grid = {\n",
    "    'tol': [1e-7, 1e-6, 1e-5, 1e-4, 1e-3, 1e-2],\n",
    "    'C': [0.001, 0.01, 0.05, 0.1, 0.5, 1.0, 5.0, 10.0],\n",
    "}\n",
    "\n",
    "logistic = linear_model.LogisticRegression()\n",
    "clf_logistic = GridSearchCV(logistic, param_grid, cv=5)\n",
    "clf_logistic.fit(X_train, y_train)\n",
    "y_pred = clf_logistic.predict(X_val)\n",
    "_ = get_metrics(y_val, y_pred)"
   ]
  },
  {
   "cell_type": "code",
   "execution_count": null,
   "metadata": {},
   "outputs": [],
   "source": [
    "list(zip(features, list(clf_logistic.best_estimator_.coef_[0])))"
   ]
  },
  {
   "cell_type": "markdown",
   "metadata": {},
   "source": [
    "## SVM"
   ]
  },
  {
   "cell_type": "code",
   "execution_count": null,
   "metadata": {},
   "outputs": [],
   "source": [
    "# Results: {'C': 10.0, 'gamma': 'scale', 'kernel': 'rbf'}\n",
    "# param_grid = {\n",
    "#     'C': [0.001, 0.01, 0.05, 0.1, 0.5, 1.0, 5.0, 10.0],\n",
    "#     'gamma': ['scale', 'auto'],\n",
    "#     'kernel': ['linear', 'rbf', 'poly', 'sigmoid']\n",
    "# }\n",
    "\n",
    "# svm = SVC()\n",
    "# clf_svm = GridSearchCV(svm, param_grid, cv=5)\n",
    "# clf_svm.fit(X_train, y_train)\n",
    "# print(clf_svm.best_params_)"
   ]
  },
  {
   "cell_type": "code",
   "execution_count": null,
   "metadata": {},
   "outputs": [],
   "source": [
    "clf_svm = SVC(gamma='scale', kernel='rbf', C=10)\n",
    "clf_svm.fit(X_train, y_train)"
   ]
  },
  {
   "cell_type": "code",
   "execution_count": null,
   "metadata": {},
   "outputs": [],
   "source": [
    "# F1 Score: 0.683\n",
    "# Accuracy: 70.51%\n",
    "\n",
    "y_pred = clf_svm.predict(X_val)\n",
    "_ = get_metrics(y_val, y_pred)"
   ]
  },
  {
   "cell_type": "markdown",
   "metadata": {},
   "source": [
    "## KNN Classifier"
   ]
  },
  {
   "cell_type": "code",
   "execution_count": null,
   "metadata": {},
   "outputs": [],
   "source": [
    "# Results: {'algorithm': 'auto', 'n_neighbors': 50, 'p': 1, 'weights': 'distance'}\n",
    "param_grid = {\n",
    "    'n_neighbors': [1, 3, 5, 10, 15, 20, 25, 50],\n",
    "    'weights': ['uniform', 'distance'],\n",
    "    'algorithm': ['auto', 'ball_tree', 'kd_tree', 'brute'],\n",
    "    'p': [1, 2],\n",
    "}\n",
    "knn = KNeighborsClassifier()\n",
    "clf_knn = GridSearchCV(knn, param_grid, cv=5)\n",
    "clf_knn.fit(X_train, y_train)\n",
    "print(clf_knn.best_params_)"
   ]
  },
  {
   "cell_type": "code",
   "execution_count": null,
   "metadata": {},
   "outputs": [],
   "source": [
    "# clf_knn = KNeighborsClassifier(n_neighbors=50, p=1, weights='distance')\n",
    "# clf_knn.fit(X_train, y_train)\n",
    "# F1 Score: 0.674\n",
    "# Accuracy: 68.72%\n",
    "y_pred = clf_knn.predict(X_val)\n",
    "_ = get_metrics(y_val, y_pred)"
   ]
  },
  {
   "cell_type": "markdown",
   "metadata": {},
   "source": [
    "## Adaboost"
   ]
  },
  {
   "cell_type": "code",
   "execution_count": null,
   "metadata": {},
   "outputs": [],
   "source": [
    "# Result: {'algorithm': 'SAMME.R', 'learning_rate': 0.1, 'n_estimators': 500}\n",
    "# param_grid = {\n",
    "#     'n_estimators': [10, 25, 50, 75, 100, 250, 500],\n",
    "#     'learning_rate': [0.01, 0.05, 0.1, 0.5, 1, 5, 10, 50],\n",
    "#     'algorithm': ['SAMME', 'SAMME.R'],\n",
    "# }\n",
    "# ada = AdaBoostClassifier()\n",
    "# clf_ada = GridSearchCV(ada, param_grid, cv=5)\n",
    "# clf_ada.fit(X_train, y_train)\n",
    "# print(clf_ada.best_params_)"
   ]
  },
  {
   "cell_type": "code",
   "execution_count": null,
   "metadata": {},
   "outputs": [],
   "source": [
    "clf_ada = AdaBoostClassifier(n_estimators=500, learning_rate=0.1)\n",
    "clf_ada.fit(X_train, y_train)\n",
    "y_pred = clf_ada.predict(X_val)\n",
    "_ = get_metrics(y_val, y_pred)"
   ]
  },
  {
   "cell_type": "markdown",
   "metadata": {},
   "source": [
    "## Neural Network"
   ]
  },
  {
   "cell_type": "code",
   "execution_count": null,
   "metadata": {},
   "outputs": [],
   "source": [
    "# Result: {\n",
    "#     'activation': 'relu',\n",
    "#     'alpha': 0.001,\n",
    "#     'hidden_layer_sizes': (32, 64),\n",
    "#     'learning_rate_init': 0.001, 'solver': 'adam'\n",
    "# }\n",
    "# param_grid = [\n",
    "#     {\n",
    "#         'hidden_layer_sizes': [(16,), (64,), (16, 16), (16, 32), (32, 64)],\n",
    "#         'activation': ['logistic', 'tanh', 'relu'],\n",
    "#         'solver': ['adam'],\n",
    "#         'alpha': [0.00001, 0.0001, 0.001],\n",
    "#         'learning_rate_init': [0.0001, 0.001, 0.01]\n",
    "#     },\n",
    "#     {\n",
    "#         'hidden_layer_sizes': [(16,), (64,), (16, 16), (16, 32), (32, 64)],\n",
    "#         'activation': ['logistic', 'tanh', 'relu'],\n",
    "#         'solver': ['sgd'],\n",
    "#         'learning_rate': ['constant', 'invscaling', 'adaptive'],\n",
    "#         'alpha': [0.00001, 0.0001, 0.001],\n",
    "#         'learning_rate_init': [0.0001, 0.001, 0.01],\n",
    "#     },\n",
    "#     {\n",
    "#         'hidden_layer_sizes': [(16,), (64,), (16, 16), (16, 32), (32, 64)],\n",
    "#         'activation': ['logistic', 'tanh', 'relu'],\n",
    "#         'solver': ['lbfgs'],\n",
    "#         'alpha': [0.00001, 0.0001, 0.001],\n",
    "#     },\n",
    "# ]\n",
    "# mpl = MLPClassifier()\n",
    "# clf_mlp = GridSearchCV(mpl, param_grid, cv=5)\n",
    "# clf_mlp.fit(X_train, y_train)\n",
    "# print(clf_mlp.best_params_)"
   ]
  },
  {
   "cell_type": "code",
   "execution_count": null,
   "metadata": {},
   "outputs": [],
   "source": [
    "clf_mlp = MLPClassifier(activation='relu',\n",
    "                        alpha=0.001,\n",
    "                        hidden_layer_sizes=(32, 64),\n",
    "                        learning_rate_init=0.001,\n",
    "                        solver='adam')\n",
    "\n",
    "clf_mlp.fit(X_train, y_train)"
   ]
  },
  {
   "cell_type": "code",
   "execution_count": null,
   "metadata": {},
   "outputs": [],
   "source": [
    "y_pred = clf_mlp.predict(X_val)"
   ]
  },
  {
   "cell_type": "code",
   "execution_count": null,
   "metadata": {},
   "outputs": [],
   "source": [
    "_ = get_metrics(y_val, y_pred)"
   ]
  },
  {
   "cell_type": "code",
   "execution_count": null,
   "metadata": {},
   "outputs": [],
   "source": []
  }
 ],
 "metadata": {
  "kernelspec": {
   "display_name": "Python 3",
   "language": "python",
   "name": "python3"
  },
  "language_info": {
   "codemirror_mode": {
    "name": "ipython",
    "version": 3
   },
   "file_extension": ".py",
   "mimetype": "text/x-python",
   "name": "python",
   "nbconvert_exporter": "python",
   "pygments_lexer": "ipython3",
   "version": "3.7.4"
  }
 },
 "nbformat": 4,
 "nbformat_minor": 4
}
