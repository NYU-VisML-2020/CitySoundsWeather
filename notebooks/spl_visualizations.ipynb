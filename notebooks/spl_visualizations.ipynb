{
 "cells": [
  {
   "cell_type": "markdown",
   "metadata": {},
   "source": [
    "# Sound pressure level vs. precipitation\n",
    "\n",
    "## Imports"
   ]
  },
  {
   "cell_type": "code",
   "execution_count": null,
   "metadata": {},
   "outputs": [],
   "source": [
    "import h5py\n",
    "import os\n",
    "import pandas as pd\n",
    "import numpy as np\n",
    "import sys\n",
    "import altair as alt\n",
    "from datetime import datetime, timedelta"
   ]
  },
  {
   "cell_type": "code",
   "execution_count": null,
   "metadata": {},
   "outputs": [],
   "source": [
    "sys.path.append('/'.join(os.getcwd().split('/')[:-1]) + '/library')\n",
    "from searcher import Searcher"
   ]
  },
  {
   "cell_type": "markdown",
   "metadata": {},
   "source": [
    "## Weather data\n",
    "\n",
    "I'm renaming the columns because square brackets have a special meaning in Altair."
   ]
  },
  {
   "cell_type": "code",
   "execution_count": null,
   "metadata": {},
   "outputs": [],
   "source": [
    "weather_df = pd.read_csv(\n",
    "    '../data/weather-hourly.csv', \n",
    "    usecols=['datetime[utc]', 'precipitation[mm]'], \n",
    "    parse_dates=['datetime[utc]']\n",
    ").rename(columns={'datetime[utc]': 'end_time', 'precipitation[mm]': 'precipitation'})"
   ]
  },
  {
   "cell_type": "code",
   "execution_count": null,
   "metadata": {},
   "outputs": [],
   "source": [
    "april_2017_weather = weather_df[\n",
    "    (weather_df['end_time'].dt.year == 2017) &\n",
    "    (weather_df['end_time'].dt.month == 4) &\n",
    "    (weather_df['end_time'].dt.minute == 51)\n",
    "].copy()"
   ]
  },
  {
   "cell_type": "markdown",
   "metadata": {},
   "source": [
    "The start time is 59m 59s before the end time. This is because `Searcher.return_interval` uses inclusive start and end  times."
   ]
  },
  {
   "cell_type": "code",
   "execution_count": null,
   "metadata": {},
   "outputs": [],
   "source": [
    "april_2017_weather['start_time'] = april_2017_weather['end_time'] - timedelta(seconds=60 * 60 - 1)"
   ]
  },
  {
   "cell_type": "code",
   "execution_count": null,
   "metadata": {},
   "outputs": [],
   "source": [
    "april_2017_weather.head()"
   ]
  },
  {
   "cell_type": "code",
   "execution_count": null,
   "metadata": {},
   "outputs": [],
   "source": [
    "alt.Chart(april_2017_weather).mark_line().encode(\n",
    "    x=alt.X('end_time:T', title='Date'),\n",
    "    y=alt.Y('precipitation:Q', title='Precipitation (mm)')\n",
    ").properties(\n",
    "    title='Hourly Precipitation, April 2017'\n",
    ").interactive()"
   ]
  },
  {
   "cell_type": "markdown",
   "metadata": {},
   "source": [
    "## SONYC data"
   ]
  },
  {
   "cell_type": "code",
   "execution_count": null,
   "metadata": {},
   "outputs": [],
   "source": [
    "class Plotter:\n",
    "    def __init__(self, node, weather_df):\n",
    "        self.node = node\n",
    "        self.searcher = Searcher(node)\n",
    "        self.df = weather_df\n",
    "        self.df['spl'] = self.df.apply(self.get_mean_spl, axis=1)\n",
    "\n",
    "\n",
    "    def get_mean_spl(self, row):\n",
    "        interval = self.searcher.return_interval(row['start_time'],\n",
    "                                                 row['end_time'])\n",
    "        info = self.searcher.information[interval['index'].values]\n",
    "        return info['spl_vector'].mean()\n",
    "    \n",
    "    \n",
    "    def scatter(self, data):\n",
    "        return alt.Chart(data).mark_point().encode(\n",
    "            x=alt.X('precipitation:Q',\n",
    "                    title='Precipitation (mm)',\n",
    "                    scale=alt.Scale(zero=False)),\n",
    "            y=alt.Y('spl:Q',\n",
    "                    title='Mean sound pressure level',\n",
    "                    scale=alt.Scale(zero=False)),\n",
    "        ).properties(\n",
    "            title=self.node\n",
    "        ).interactive()\n",
    "\n",
    "\n",
    "    def scatter_all_points(self):\n",
    "        return self.scatter(self.df)\n",
    "\n",
    "\n",
    "    def scatter_points_with_precipitation(self):\n",
    "        return self.scatter(self.df[self.df['precipitation'] > 0])"
   ]
  },
  {
   "cell_type": "code",
   "execution_count": null,
   "metadata": {},
   "outputs": [],
   "source": [
    "node1 = 'sonycnode-b827eb86d458.sonyc'\n",
    "node2 = 'sonycnode-b827eb329ab8.sonyc'\n",
    "node3 = 'sonycnode-b827ebb40450.sonyc'\n",
    "node4 = 'sonycnode-b827eb73e772.sonyc'"
   ]
  },
  {
   "cell_type": "code",
   "execution_count": null,
   "metadata": {},
   "outputs": [],
   "source": [
    "plotter = Plotter(node1, april_2017_weather)"
   ]
  },
  {
   "cell_type": "code",
   "execution_count": null,
   "metadata": {},
   "outputs": [],
   "source": [
    "plotter.scatter_all_points()"
   ]
  },
  {
   "cell_type": "code",
   "execution_count": null,
   "metadata": {},
   "outputs": [],
   "source": [
    "plotter.scatter_points_with_precipitation()"
   ]
  },
  {
   "cell_type": "code",
   "execution_count": null,
   "metadata": {},
   "outputs": [],
   "source": []
  }
 ],
 "metadata": {
  "kernelspec": {
   "display_name": "Python 3",
   "language": "python",
   "name": "python3"
  },
  "language_info": {
   "codemirror_mode": {
    "name": "ipython",
    "version": 3
   },
   "file_extension": ".py",
   "mimetype": "text/x-python",
   "name": "python",
   "nbconvert_exporter": "python",
   "pygments_lexer": "ipython3",
   "version": "3.7.4"
  }
 },
 "nbformat": 4,
 "nbformat_minor": 4
}
