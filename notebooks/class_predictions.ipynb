{
 "cells": [
  {
   "cell_type": "code",
   "execution_count": null,
   "metadata": {},
   "outputs": [],
   "source": [
    "import h5py\n",
    "import os\n",
    "import pandas as pd\n",
    "import numpy as np\n",
    "import sys\n",
    "import altair as alt\n",
    "from datetime import datetime, timedelta"
   ]
  },
  {
   "cell_type": "code",
   "execution_count": null,
   "metadata": {},
   "outputs": [],
   "source": [
    "sys.path.append('/'.join(os.getcwd().split('/')[:-1]) + '/library')\n",
    "from searcher import Searcher"
   ]
  },
  {
   "cell_type": "code",
   "execution_count": null,
   "metadata": {},
   "outputs": [],
   "source": [
    "df = pd.read_csv('../data/audio-paths-rained.csv')"
   ]
  },
  {
   "cell_type": "code",
   "execution_count": null,
   "metadata": {},
   "outputs": [],
   "source": [
    "df['node'] = df['path'].str.split('/').str[2]"
   ]
  },
  {
   "cell_type": "code",
   "execution_count": null,
   "metadata": {},
   "outputs": [],
   "source": [
    "df['prediction_path'] = df['node'].map(lambda x: f'../sonyc/class_predictions/1.0.0/2017/{x}_class_predictions.h5')"
   ]
  },
  {
   "cell_type": "code",
   "execution_count": null,
   "metadata": {},
   "outputs": [],
   "source": [
    "df"
   ]
  },
  {
   "cell_type": "code",
   "execution_count": null,
   "metadata": {},
   "outputs": [],
   "source": [
    "df.drop_duplicates(subset=['node_timestamp', 'node'], inplace=True)"
   ]
  },
  {
   "cell_type": "code",
   "execution_count": null,
   "metadata": {},
   "outputs": [],
   "source": [
    "labels = [\n",
    "    '1_engine', '2_machinery-impact',\n",
    "    '3_non-machinery-impact', '4_powered-saw',\n",
    "    '5_alert-signal', '6_music',\n",
    "    '7_human-voice', '8_dog'\n",
    "]"
   ]
  },
  {
   "cell_type": "code",
   "execution_count": null,
   "metadata": {},
   "outputs": [],
   "source": [
    "cache = {\n",
    "    'path': None,\n",
    "    'data': None,\n",
    "    'timestamps': None\n",
    "}"
   ]
  },
  {
   "cell_type": "code",
   "execution_count": null,
   "metadata": {},
   "outputs": [],
   "source": [
    "def get_predictions(row, cache, labels):\n",
    "    if row['prediction_path'] != cache['path']:\n",
    "        cache['path'] = row['prediction_path']\n",
    "        cache['data'] = h5py.File(cache['path'], 'r')['coarse']\n",
    "        cache['timestamps'] = pd.DataFrame(cache['data']['timestamp'], columns=['epoch'])\n",
    "\n",
    "    \n",
    "    timestamp = row['node_timestamp']\n",
    "    \n",
    "    index = cache['timestamps'][cache['timestamps']['epoch'] == timestamp].index[0]\n",
    "    \n",
    "    return list(cache['data'][index][labels])\n",
    "\n",
    "prediction_df = df.apply(get_predictions, axis='columns', result_type='expand', args=[cache, labels])"
   ]
  },
  {
   "cell_type": "code",
   "execution_count": null,
   "metadata": {},
   "outputs": [],
   "source": [
    "prediction_df.columns = labels"
   ]
  },
  {
   "cell_type": "code",
   "execution_count": null,
   "metadata": {},
   "outputs": [],
   "source": [
    "df_all = pd.concat([df, prediction_df], axis=1)\n",
    "df_all"
   ]
  },
  {
   "cell_type": "code",
   "execution_count": null,
   "metadata": {},
   "outputs": [],
   "source": [
    "columns_to_output = ['node_timestamp', 'precipitation[mm]', 'node'] + labels\n",
    "clean_labels = [w[2:] for w in labels]\n",
    "header_to_output = ['node_timestamp', 'precipitation[mm]', 'node'] + clean_labels\n",
    "df_all.to_csv('../data/predictions.csv', columns=columns_to_output, index=False, header=header_to_output)"
   ]
  },
  {
   "cell_type": "code",
   "execution_count": null,
   "metadata": {},
   "outputs": [],
   "source": []
  }
 ],
 "metadata": {
  "kernelspec": {
   "display_name": "Python 3",
   "language": "python",
   "name": "python3"
  },
  "language_info": {
   "codemirror_mode": {
    "name": "ipython",
    "version": 3
   },
   "file_extension": ".py",
   "mimetype": "text/x-python",
   "name": "python",
   "nbconvert_exporter": "python",
   "pygments_lexer": "ipython3",
   "version": "3.7.4"
  }
 },
 "nbformat": 4,
 "nbformat_minor": 4
}
